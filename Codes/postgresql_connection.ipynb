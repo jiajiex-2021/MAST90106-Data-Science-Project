{
    "metadata": {
        "kernelspec": {
            "name": "python3",
            "display_name": "Python 3 (ipykernel)",
            "language": "python"
        },
        "language_info": {
            "name": "python",
            "version": "3.8.10",
            "mimetype": "text/x-python",
            "codemirror_mode": {
                "name": "ipython",
                "version": 3
            },
            "pygments_lexer": "ipython3",
            "nbconvert_exporter": "python",
            "file_extension": ".py"
        }
    },
    "nbformat_minor": 2,
    "nbformat": 4,
    "cells": [
        {
            "cell_type": "code",
            "source": [
                "import pandas as pd\r\n",
                "import psycopg2\r\n",
                "df = pd.DataFrame()"
            ],
            "metadata": {
                "azdata_cell_guid": "6a234e82-5403-45f8-b5ac-8bb37cbad760",
                "language": "python",
                "tags": []
            },
            "outputs": [],
            "execution_count": 1
        },
        {
            "cell_type": "code",
            "source": [
                "conn = psycopg2.connect(\r\n",
                "    host=\"is-postgres-au-vic.postgres.database.azure.com\",\r\n",
                "    database=\"postgres\",\r\n",
                "    user=\"ds@is-postgres-au-vic\",\r\n",
                "    password='P\":VQ:7yD?ha!r7\"yWsmT15n7-RbT')"
            ],
            "metadata": {
                "language": "python",
                "azdata_cell_guid": "d7efffe0-783e-4d28-9ad8-b8f3b1f01705",
                "tags": []
            },
            "outputs": [],
            "execution_count": 2
        },
        {
            "cell_type": "code",
            "source": [
                "cur = conn.cursor()\r\n",
                "cur.execute('SELECT * FROM postgres.ds.mv_staff')\r\n",
                "data = cur.fetchone()\r\n",
                "print(data)"
            ],
            "metadata": {
                "language": "python",
                "azdata_cell_guid": "e0589284-b66e-4ac5-8063-2cac38619223"
            },
            "outputs": [
                {
                    "name": "stdout",
                    "text": "('0cd27009-bfe1-4d0f-be4e-49bf4eaf9f08', 'b04fe500-3c29-05d4-68b8-543e67096f7d', 'male', 'male')\n",
                    "output_type": "stream"
                }
            ],
            "execution_count": 13
        }
    ]
}