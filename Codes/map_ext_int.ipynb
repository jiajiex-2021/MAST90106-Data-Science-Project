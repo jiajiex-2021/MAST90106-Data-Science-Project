{
    "metadata": {
        "kernelspec": {
            "name": "python3",
            "display_name": "Python 3 (ipykernel)",
            "language": "python"
        },
        "language_info": {
            "name": "python",
            "version": "3.8.10",
            "mimetype": "text/x-python",
            "codemirror_mode": {
                "name": "ipython",
                "version": 3
            },
            "pygments_lexer": "ipython3",
            "nbconvert_exporter": "python",
            "file_extension": ".py"
        }
    },
    "nbformat_minor": 2,
    "nbformat": 4,
    "cells": [
        {
            "cell_type": "code",
            "source": [
                "import pandas as pd\r\n",
                "from scipy import stats\r\n",
                "from statistics import mean"
            ],
            "metadata": {
                "azdata_cell_guid": "16e56408-569b-4002-8c65-5cdab6391fc6",
                "language": "python"
            },
            "outputs": [],
            "execution_count": 55
        },
        {
            "cell_type": "code",
            "source": [
                "internals = pd.read_csv(\"internals.csv\")\r\n",
                "externals = pd.read_csv(\"externals.csv\")"
            ],
            "metadata": {
                "language": "python",
                "azdata_cell_guid": "1b620271-fb79-49c0-bf89-f9e883102305"
            },
            "outputs": [],
            "execution_count": 100
        },
        {
            "cell_type": "code",
            "source": [
                "internals.head()"
            ],
            "metadata": {
                "language": "python",
                "azdata_cell_guid": "822886d2-a6b1-40ff-9d68-cb2413f3945d"
            },
            "outputs": [
                {
                    "data": {
                        "text/plain": "                               tnt_uuid                       assessment_uuid  \\\n0  6d27c189-cc31-4970-a6b2-49019ce66c3f  c4e3e986-bc32-0a22-9085-0d6088b6d309   \n1  6d27c189-cc31-4970-a6b2-49019ce66c3f  c4e35d50-9b2f-f8ae-6555-58f0949d9b66   \n2  6d27c189-cc31-4970-a6b2-49019ce66c3f  c4e44eae-1534-f120-29e1-5d0abff52050   \n3  6d27c189-cc31-4970-a6b2-49019ce66c3f  c4e49d22-9205-e2b7-afdc-312fd9564810   \n4  6d27c189-cc31-4970-a6b2-49019ce66c3f  c4e46ea5-e4c8-a3f1-a72d-324c504d8fb3   \n\n                            ttsess_uuid                              stu_uuid  \\\n0  67045c9c-21be-879c-1774-9b6a2d22a73b  3ff4e152-fe23-90f1-2dc5-795379649da8   \n1  67046440-439d-5c20-d62f-8ddc655052cf  3ff4e152-fe23-90f1-2dc5-795379649da8   \n2  6704c9c1-2c77-0533-e04a-e73fa620c87b  3ff4e152-fe23-90f1-2dc5-795379649da8   \n3  670498db-d726-8504-5ac1-d28ef68b5bcb  3ff4e152-fe23-90f1-2dc5-795379649da8   \n4  67044b53-5747-9015-5532-332cc438841a  3ff4e152-fe23-90f1-2dc5-795379649da8   \n\n                           ttclass_uuid    status  \\\n0  443eb7a2-e3f6-ca47-669c-e72638cea15a  ASSIGNED   \n1  443d72a3-8eaa-c49e-bdf5-58efb72b9e32  ASSIGNED   \n2  443f3130-1ca9-65f0-852c-ab39aeb5be6f  ASSIGNED   \n3  443e4335-7376-0acd-2d95-20751949a458  ASSIGNED   \n4  443fa9f5-a241-7aea-31b4-332332ae5592  ASSIGNED   \n\n                                      name                   activate  \\\n0     Mathematics Semester Result G08MT4 K  2020-11-26 14:00:00+00:00   \n1     Mathematics Semester Result G07MT1 K  2019-06-13 14:00:00+00:00   \n2  Mathematics Semester One Grade G08MT4 K  2020-06-11 14:00:00+00:00   \n3     Mathematics Semester result G07MT1 K  2019-12-01 14:00:00+00:00   \n4   Mathematics A Semester result G09MA4 K  2021-11-24 14:00:00+00:00   \n\n                 assessment_result_uuid  result_numeric  ... session_start  \\\n0  c512cee0-6765-6cd8-64d8-63953fcec12c            0.96  ...    2020-06-15   \n1  c508f21c-bdb6-5f80-3b7a-bacfdef687c6            0.97  ...    2019-01-29   \n2  c508f942-d586-1a52-6d89-c228eaf745df            0.92  ...    2020-01-31   \n3  c50b8f96-1903-9cfa-4505-f01ca31d6f43            0.95  ...    2019-06-17   \n4  c51f0189-2fa0-f43e-48c3-3d5e3c155b60            0.87  ...    2021-07-13   \n\n   session_end  status.1       title school_year  \\\n0   2020-12-09    active  Semester 2        2020   \n1   2019-06-14    active  Semester 1        2019   \n2   2020-06-12    active  Semester 1        2020   \n3   2019-12-11    active  Semester 2        2019   \n4   2021-12-10    active  Semester 2        2021   \n\n                             tnt_uuid.2                           ldom_uuid.1  \\\n0  6d27c189-cc31-4970-a6b2-49019ce66c3f  9409e639-1c34-dbba-0c86-40ceed9af969   \n1  6d27c189-cc31-4970-a6b2-49019ce66c3f  9409e639-1c34-dbba-0c86-40ceed9af969   \n2  6d27c189-cc31-4970-a6b2-49019ce66c3f  9409e639-1c34-dbba-0c86-40ceed9af969   \n3  6d27c189-cc31-4970-a6b2-49019ce66c3f  9409e639-1c34-dbba-0c86-40ceed9af969   \n4  6d27c189-cc31-4970-a6b2-49019ce66c3f  9409e639-1c34-dbba-0c86-40ceed9af969   \n\n  learning_domain learning_domain_code learning_domain_enum  \n0     Mathematics                MATHS                  NaN  \n1     Mathematics                MATHS                  NaN  \n2     Mathematics                MATHS                  NaN  \n3     Mathematics                MATHS                  NaN  \n4     Mathematics                MATHS                  NaN  \n\n[5 rows x 46 columns]",
                        "text/html": "<div>\n<style scoped>\n    .dataframe tbody tr th:only-of-type {\n        vertical-align: middle;\n    }\n\n    .dataframe tbody tr th {\n        vertical-align: top;\n    }\n\n    .dataframe thead th {\n        text-align: right;\n    }\n</style>\n<table border=\"1\" class=\"dataframe\">\n  <thead>\n    <tr style=\"text-align: right;\">\n      <th></th>\n      <th>tnt_uuid</th>\n      <th>assessment_uuid</th>\n      <th>ttsess_uuid</th>\n      <th>stu_uuid</th>\n      <th>ttclass_uuid</th>\n      <th>status</th>\n      <th>name</th>\n      <th>activate</th>\n      <th>assessment_result_uuid</th>\n      <th>result_numeric</th>\n      <th>...</th>\n      <th>session_start</th>\n      <th>session_end</th>\n      <th>status.1</th>\n      <th>title</th>\n      <th>school_year</th>\n      <th>tnt_uuid.2</th>\n      <th>ldom_uuid.1</th>\n      <th>learning_domain</th>\n      <th>learning_domain_code</th>\n      <th>learning_domain_enum</th>\n    </tr>\n  </thead>\n  <tbody>\n    <tr>\n      <th>0</th>\n      <td>6d27c189-cc31-4970-a6b2-49019ce66c3f</td>\n      <td>c4e3e986-bc32-0a22-9085-0d6088b6d309</td>\n      <td>67045c9c-21be-879c-1774-9b6a2d22a73b</td>\n      <td>3ff4e152-fe23-90f1-2dc5-795379649da8</td>\n      <td>443eb7a2-e3f6-ca47-669c-e72638cea15a</td>\n      <td>ASSIGNED</td>\n      <td>Mathematics Semester Result G08MT4 K</td>\n      <td>2020-11-26 14:00:00+00:00</td>\n      <td>c512cee0-6765-6cd8-64d8-63953fcec12c</td>\n      <td>0.96</td>\n      <td>...</td>\n      <td>2020-06-15</td>\n      <td>2020-12-09</td>\n      <td>active</td>\n      <td>Semester 2</td>\n      <td>2020</td>\n      <td>6d27c189-cc31-4970-a6b2-49019ce66c3f</td>\n      <td>9409e639-1c34-dbba-0c86-40ceed9af969</td>\n      <td>Mathematics</td>\n      <td>MATHS</td>\n      <td>NaN</td>\n    </tr>\n    <tr>\n      <th>1</th>\n      <td>6d27c189-cc31-4970-a6b2-49019ce66c3f</td>\n      <td>c4e35d50-9b2f-f8ae-6555-58f0949d9b66</td>\n      <td>67046440-439d-5c20-d62f-8ddc655052cf</td>\n      <td>3ff4e152-fe23-90f1-2dc5-795379649da8</td>\n      <td>443d72a3-8eaa-c49e-bdf5-58efb72b9e32</td>\n      <td>ASSIGNED</td>\n      <td>Mathematics Semester Result G07MT1 K</td>\n      <td>2019-06-13 14:00:00+00:00</td>\n      <td>c508f21c-bdb6-5f80-3b7a-bacfdef687c6</td>\n      <td>0.97</td>\n      <td>...</td>\n      <td>2019-01-29</td>\n      <td>2019-06-14</td>\n      <td>active</td>\n      <td>Semester 1</td>\n      <td>2019</td>\n      <td>6d27c189-cc31-4970-a6b2-49019ce66c3f</td>\n      <td>9409e639-1c34-dbba-0c86-40ceed9af969</td>\n      <td>Mathematics</td>\n      <td>MATHS</td>\n      <td>NaN</td>\n    </tr>\n    <tr>\n      <th>2</th>\n      <td>6d27c189-cc31-4970-a6b2-49019ce66c3f</td>\n      <td>c4e44eae-1534-f120-29e1-5d0abff52050</td>\n      <td>6704c9c1-2c77-0533-e04a-e73fa620c87b</td>\n      <td>3ff4e152-fe23-90f1-2dc5-795379649da8</td>\n      <td>443f3130-1ca9-65f0-852c-ab39aeb5be6f</td>\n      <td>ASSIGNED</td>\n      <td>Mathematics Semester One Grade G08MT4 K</td>\n      <td>2020-06-11 14:00:00+00:00</td>\n      <td>c508f942-d586-1a52-6d89-c228eaf745df</td>\n      <td>0.92</td>\n      <td>...</td>\n      <td>2020-01-31</td>\n      <td>2020-06-12</td>\n      <td>active</td>\n      <td>Semester 1</td>\n      <td>2020</td>\n      <td>6d27c189-cc31-4970-a6b2-49019ce66c3f</td>\n      <td>9409e639-1c34-dbba-0c86-40ceed9af969</td>\n      <td>Mathematics</td>\n      <td>MATHS</td>\n      <td>NaN</td>\n    </tr>\n    <tr>\n      <th>3</th>\n      <td>6d27c189-cc31-4970-a6b2-49019ce66c3f</td>\n      <td>c4e49d22-9205-e2b7-afdc-312fd9564810</td>\n      <td>670498db-d726-8504-5ac1-d28ef68b5bcb</td>\n      <td>3ff4e152-fe23-90f1-2dc5-795379649da8</td>\n      <td>443e4335-7376-0acd-2d95-20751949a458</td>\n      <td>ASSIGNED</td>\n      <td>Mathematics Semester result G07MT1 K</td>\n      <td>2019-12-01 14:00:00+00:00</td>\n      <td>c50b8f96-1903-9cfa-4505-f01ca31d6f43</td>\n      <td>0.95</td>\n      <td>...</td>\n      <td>2019-06-17</td>\n      <td>2019-12-11</td>\n      <td>active</td>\n      <td>Semester 2</td>\n      <td>2019</td>\n      <td>6d27c189-cc31-4970-a6b2-49019ce66c3f</td>\n      <td>9409e639-1c34-dbba-0c86-40ceed9af969</td>\n      <td>Mathematics</td>\n      <td>MATHS</td>\n      <td>NaN</td>\n    </tr>\n    <tr>\n      <th>4</th>\n      <td>6d27c189-cc31-4970-a6b2-49019ce66c3f</td>\n      <td>c4e46ea5-e4c8-a3f1-a72d-324c504d8fb3</td>\n      <td>67044b53-5747-9015-5532-332cc438841a</td>\n      <td>3ff4e152-fe23-90f1-2dc5-795379649da8</td>\n      <td>443fa9f5-a241-7aea-31b4-332332ae5592</td>\n      <td>ASSIGNED</td>\n      <td>Mathematics A Semester result G09MA4 K</td>\n      <td>2021-11-24 14:00:00+00:00</td>\n      <td>c51f0189-2fa0-f43e-48c3-3d5e3c155b60</td>\n      <td>0.87</td>\n      <td>...</td>\n      <td>2021-07-13</td>\n      <td>2021-12-10</td>\n      <td>active</td>\n      <td>Semester 2</td>\n      <td>2021</td>\n      <td>6d27c189-cc31-4970-a6b2-49019ce66c3f</td>\n      <td>9409e639-1c34-dbba-0c86-40ceed9af969</td>\n      <td>Mathematics</td>\n      <td>MATHS</td>\n      <td>NaN</td>\n    </tr>\n  </tbody>\n</table>\n<p>5 rows × 46 columns</p>\n</div>"
                    },
                    "metadata": {},
                    "execution_count": 4,
                    "output_type": "execute_result"
                }
            ],
            "execution_count": 4
        },
        {
            "cell_type": "code",
            "source": [
                "print(internals['stu_uuid'].nunique())\r\n",
                "print(externals['stu_uuid'].nunique())"
            ],
            "metadata": {
                "language": "python",
                "azdata_cell_guid": "9f7f6df8-0371-4c39-bacc-41b10d5f3229"
            },
            "outputs": [
                {
                    "name": "stdout",
                    "text": "298\n289\n",
                    "output_type": "stream"
                }
            ],
            "execution_count": 14
        },
        {
            "cell_type": "markdown",
            "source": [
                "**Dropping students which don't have NAPLAN Numeracy records**"
            ],
            "metadata": {
                "language": "python",
                "azdata_cell_guid": "46ca8f6f-dee3-4f70-b608-15d9d7d8f841"
            },
            "attachments": {}
        },
        {
            "cell_type": "code",
            "source": [
                "filt = internals['stu_uuid'].isin(externals['stu_uuid'].unique())\r\n",
                "internals_with_NAPLAN = internals[filt]\r\n",
                "internals_with_NAPLAN['stu_uuid'].nunique()"
            ],
            "metadata": {
                "language": "python",
                "azdata_cell_guid": "047828cf-039d-49c2-b3c4-45f0390de51d"
            },
            "outputs": [
                {
                    "data": {
                        "text/plain": "289"
                    },
                    "metadata": {},
                    "execution_count": 21,
                    "output_type": "execute_result"
                }
            ],
            "execution_count": 21
        },
        {
            "cell_type": "code",
            "source": [
                "internals_with_NAPLAN"
            ],
            "metadata": {
                "language": "python",
                "azdata_cell_guid": "5635eded-613d-4d8f-b5b6-fa4a0fb35b11"
            },
            "outputs": [],
            "execution_count": null
        },
        {
            "cell_type": "markdown",
            "source": [
                "**Types of assessments**"
            ],
            "metadata": {
                "language": "python",
                "azdata_cell_guid": "5d991466-d736-4495-9c21-d11119eaf7f7"
            },
            "attachments": {}
        },
        {
            "cell_type": "code",
            "source": [
                "internals_with_NAPLAN['description'].value_counts()"
            ],
            "metadata": {
                "language": "python",
                "azdata_cell_guid": "954695b9-7ec0-49cb-8c99-34e24941d86f"
            },
            "outputs": [
                {
                    "data": {
                        "text/plain": "Common Tasks          11091\nHomework               7316\nClass Work             3763\nOther                  2110\nAssessment Task        1768\nEnd of Semester        1664\nQuiz                   1376\nAssignment              206\nExtension               120\nResearch Project         48\nDevelopmental Task        2\nName: description, dtype: int64"
                    },
                    "metadata": {},
                    "execution_count": 23,
                    "output_type": "execute_result"
                }
            ],
            "execution_count": 23
        },
        {
            "cell_type": "markdown",
            "source": [
                "**Number of records with non-NaN numeric results**"
            ],
            "metadata": {
                "azdata_cell_guid": "3336c2d9-ab3b-4054-b2d7-05f8d0c560f0"
            },
            "attachments": {}
        },
        {
            "cell_type": "code",
            "source": [
                "na_filt = ~internals_with_NAPLAN['result_numeric'].isna()\r\n",
                "internals_with_NAPLAN[na_filt].shape"
            ],
            "metadata": {
                "language": "python",
                "azdata_cell_guid": "9175c4e7-db3b-4c11-99a5-cad2e3a25adc"
            },
            "outputs": [
                {
                    "data": {
                        "text/plain": "(13265, 46)"
                    },
                    "metadata": {},
                    "execution_count": 35,
                    "output_type": "execute_result"
                }
            ],
            "execution_count": 35
        },
        {
            "cell_type": "markdown",
            "source": [
                "**Number of records with non-NaN results**"
            ],
            "metadata": {
                "azdata_cell_guid": "723c9850-b501-4af6-9372-45d870df9611"
            },
            "attachments": {}
        },
        {
            "cell_type": "code",
            "source": [
                "na_filt = ~internals_with_NAPLAN['result_description'].isna()\r\n",
                "internals_with_NAPLAN[na_filt].shape"
            ],
            "metadata": {
                "language": "python",
                "azdata_cell_guid": "28ea0f1a-f6f3-42c2-a5a1-7765f1f819ad"
            },
            "outputs": [
                {
                    "data": {
                        "text/plain": "(14104, 46)"
                    },
                    "metadata": {},
                    "execution_count": 33,
                    "output_type": "execute_result"
                }
            ],
            "execution_count": 33
        },
        {
            "cell_type": "markdown",
            "source": [
                "**Filtering out rows with NaN numeric results**"
            ],
            "metadata": {
                "azdata_cell_guid": "e9abac63-8a04-4747-883c-88cc33def0b5"
            },
            "attachments": {}
        },
        {
            "cell_type": "code",
            "source": [
                "internal_NAP_numeric = internals_with_NAPLAN[na_filt]\r\n",
                "internal_NAP_numeric.shape"
            ],
            "metadata": {
                "azdata_cell_guid": "faed5f2d-0eea-4acf-96c2-fbdfc626cd63",
                "language": "python"
            },
            "outputs": [
                {
                    "data": {
                        "text/plain": "(13265, 46)"
                    },
                    "metadata": {},
                    "execution_count": 36,
                    "output_type": "execute_result"
                }
            ],
            "execution_count": 36
        },
        {
            "cell_type": "markdown",
            "source": [
                "**Extracting only '_End of Semester_' results**"
            ],
            "metadata": {
                "azdata_cell_guid": "50ad6652-2e4b-4e40-a6c2-c44b3bea6dc6"
            },
            "attachments": {}
        },
        {
            "cell_type": "code",
            "source": [
                "eos_filt = internal_NAP_numeric['description']=='End of Semester'\r\n",
                "internal_NAP_numeric_eos = internal_NAP_numeric[eos_filt]\r\n",
                "internal_NAP_numeric_eos.shape"
            ],
            "metadata": {
                "language": "python",
                "azdata_cell_guid": "485eee6b-397d-4fcd-b81a-77ee5fa108fa"
            },
            "outputs": [
                {
                    "data": {
                        "text/plain": "(1646, 46)"
                    },
                    "metadata": {},
                    "execution_count": 42,
                    "output_type": "execute_result"
                }
            ],
            "execution_count": 42
        },
        {
            "cell_type": "code",
            "source": [
                "internal_NAP_numeric_eos['title'].value_counts().index.tolist()"
            ],
            "metadata": {
                "language": "python",
                "azdata_cell_guid": "9f3f6277-8018-4036-88e7-f0836137c50a"
            },
            "outputs": [
                {
                    "data": {
                        "text/plain": "['Semester 2', 'Semester 1']"
                    },
                    "metadata": {},
                    "execution_count": 47,
                    "output_type": "execute_result"
                }
            ],
            "execution_count": 47
        },
        {
            "cell_type": "code",
            "source": [
                "from statistics import mean \r\n",
                "stud = '3ff4e152-fe23-90f1-2dc5-795379649da8'\r\n",
                "year = 2021\r\n",
                "sem = 'Semester 2'\r\n",
                "year_sem_filt = (internal_NAP_numeric_eos['school_year']==year) & (internal_NAP_numeric_eos['title']==sem)\r\n",
                "stu_filt = (internal_NAP_numeric_eos['stu_uuid']==stud) & (year_sem_filt)\r\n",
                "internal_NAP_numeric_eos[stu_filt]['result_numeric'].values[0] "
            ],
            "metadata": {
                "language": "python",
                "azdata_cell_guid": "b8089cff-ed57-4b95-b29a-24614e9cd089"
            },
            "outputs": [
                {
                    "data": {
                        "text/plain": "0.87"
                    },
                    "metadata": {},
                    "execution_count": 87,
                    "output_type": "execute_result"
                }
            ],
            "execution_count": 87
        },
        {
            "cell_type": "code",
            "source": [
                "internal_NAP_numeric_eos[internal_NAP_numeric_eos['stu_uuid']==stud]"
            ],
            "metadata": {
                "language": "python",
                "azdata_cell_guid": "d3af3dc9-1c39-46ce-81c7-adace52886b1"
            },
            "outputs": [
                {
                    "data": {
                        "text/plain": "                               tnt_uuid                       assessment_uuid  \\\n0  6d27c189-cc31-4970-a6b2-49019ce66c3f  c4e3e986-bc32-0a22-9085-0d6088b6d309   \n1  6d27c189-cc31-4970-a6b2-49019ce66c3f  c4e35d50-9b2f-f8ae-6555-58f0949d9b66   \n2  6d27c189-cc31-4970-a6b2-49019ce66c3f  c4e44eae-1534-f120-29e1-5d0abff52050   \n3  6d27c189-cc31-4970-a6b2-49019ce66c3f  c4e49d22-9205-e2b7-afdc-312fd9564810   \n4  6d27c189-cc31-4970-a6b2-49019ce66c3f  c4e46ea5-e4c8-a3f1-a72d-324c504d8fb3   \n5  6d27c189-cc31-4970-a6b2-49019ce66c3f  c4e5d6c1-88b9-681b-8a35-1903b9ead6e8   \n\n                            ttsess_uuid                              stu_uuid  \\\n0  67045c9c-21be-879c-1774-9b6a2d22a73b  3ff4e152-fe23-90f1-2dc5-795379649da8   \n1  67046440-439d-5c20-d62f-8ddc655052cf  3ff4e152-fe23-90f1-2dc5-795379649da8   \n2  6704c9c1-2c77-0533-e04a-e73fa620c87b  3ff4e152-fe23-90f1-2dc5-795379649da8   \n3  670498db-d726-8504-5ac1-d28ef68b5bcb  3ff4e152-fe23-90f1-2dc5-795379649da8   \n4  67044b53-5747-9015-5532-332cc438841a  3ff4e152-fe23-90f1-2dc5-795379649da8   \n5  670487c2-def4-906e-5a16-fb8b205126fb  3ff4e152-fe23-90f1-2dc5-795379649da8   \n\n                           ttclass_uuid    status  \\\n0  443eb7a2-e3f6-ca47-669c-e72638cea15a  ASSIGNED   \n1  443d72a3-8eaa-c49e-bdf5-58efb72b9e32  ASSIGNED   \n2  443f3130-1ca9-65f0-852c-ab39aeb5be6f  ASSIGNED   \n3  443e4335-7376-0acd-2d95-20751949a458  ASSIGNED   \n4  443fa9f5-a241-7aea-31b4-332332ae5592  ASSIGNED   \n5  443efd23-c19a-0464-7e7d-6f85f085e2d0  ASSIGNED   \n\n                                      name                   activate  \\\n0     Mathematics Semester Result G08MT4 K  2020-11-26 14:00:00+00:00   \n1     Mathematics Semester Result G07MT1 K  2019-06-13 14:00:00+00:00   \n2  Mathematics Semester One Grade G08MT4 K  2020-06-11 14:00:00+00:00   \n3     Mathematics Semester result G07MT1 K  2019-12-01 14:00:00+00:00   \n4   Mathematics A Semester result G09MA4 K  2021-11-24 14:00:00+00:00   \n5   Mathematics A Semester Result G09MA4 K  2021-06-16 14:00:00+00:00   \n\n                 assessment_result_uuid  result_numeric  ... session_start  \\\n0  c512cee0-6765-6cd8-64d8-63953fcec12c            0.96  ...    2020-06-15   \n1  c508f21c-bdb6-5f80-3b7a-bacfdef687c6            0.97  ...    2019-01-29   \n2  c508f942-d586-1a52-6d89-c228eaf745df            0.92  ...    2020-01-31   \n3  c50b8f96-1903-9cfa-4505-f01ca31d6f43            0.95  ...    2019-06-17   \n4  c51f0189-2fa0-f43e-48c3-3d5e3c155b60            0.87  ...    2021-07-13   \n5  c518b632-d7c1-c050-2cc0-f9ffd7d05340            0.83  ...    2021-02-01   \n\n   session_end  status.1       title school_year  \\\n0   2020-12-09    active  Semester 2        2020   \n1   2019-06-14    active  Semester 1        2019   \n2   2020-06-12    active  Semester 1        2020   \n3   2019-12-11    active  Semester 2        2019   \n4   2021-12-10    active  Semester 2        2021   \n5   2021-06-25    active  Semester 1        2021   \n\n                             tnt_uuid.2                           ldom_uuid.1  \\\n0  6d27c189-cc31-4970-a6b2-49019ce66c3f  9409e639-1c34-dbba-0c86-40ceed9af969   \n1  6d27c189-cc31-4970-a6b2-49019ce66c3f  9409e639-1c34-dbba-0c86-40ceed9af969   \n2  6d27c189-cc31-4970-a6b2-49019ce66c3f  9409e639-1c34-dbba-0c86-40ceed9af969   \n3  6d27c189-cc31-4970-a6b2-49019ce66c3f  9409e639-1c34-dbba-0c86-40ceed9af969   \n4  6d27c189-cc31-4970-a6b2-49019ce66c3f  9409e639-1c34-dbba-0c86-40ceed9af969   \n5  6d27c189-cc31-4970-a6b2-49019ce66c3f  9409e639-1c34-dbba-0c86-40ceed9af969   \n\n  learning_domain learning_domain_code learning_domain_enum  \n0     Mathematics                MATHS                  NaN  \n1     Mathematics                MATHS                  NaN  \n2     Mathematics                MATHS                  NaN  \n3     Mathematics                MATHS                  NaN  \n4     Mathematics                MATHS                  NaN  \n5     Mathematics                MATHS                  NaN  \n\n[6 rows x 46 columns]",
                        "text/html": "<div>\n<style scoped>\n    .dataframe tbody tr th:only-of-type {\n        vertical-align: middle;\n    }\n\n    .dataframe tbody tr th {\n        vertical-align: top;\n    }\n\n    .dataframe thead th {\n        text-align: right;\n    }\n</style>\n<table border=\"1\" class=\"dataframe\">\n  <thead>\n    <tr style=\"text-align: right;\">\n      <th></th>\n      <th>tnt_uuid</th>\n      <th>assessment_uuid</th>\n      <th>ttsess_uuid</th>\n      <th>stu_uuid</th>\n      <th>ttclass_uuid</th>\n      <th>status</th>\n      <th>name</th>\n      <th>activate</th>\n      <th>assessment_result_uuid</th>\n      <th>result_numeric</th>\n      <th>...</th>\n      <th>session_start</th>\n      <th>session_end</th>\n      <th>status.1</th>\n      <th>title</th>\n      <th>school_year</th>\n      <th>tnt_uuid.2</th>\n      <th>ldom_uuid.1</th>\n      <th>learning_domain</th>\n      <th>learning_domain_code</th>\n      <th>learning_domain_enum</th>\n    </tr>\n  </thead>\n  <tbody>\n    <tr>\n      <th>0</th>\n      <td>6d27c189-cc31-4970-a6b2-49019ce66c3f</td>\n      <td>c4e3e986-bc32-0a22-9085-0d6088b6d309</td>\n      <td>67045c9c-21be-879c-1774-9b6a2d22a73b</td>\n      <td>3ff4e152-fe23-90f1-2dc5-795379649da8</td>\n      <td>443eb7a2-e3f6-ca47-669c-e72638cea15a</td>\n      <td>ASSIGNED</td>\n      <td>Mathematics Semester Result G08MT4 K</td>\n      <td>2020-11-26 14:00:00+00:00</td>\n      <td>c512cee0-6765-6cd8-64d8-63953fcec12c</td>\n      <td>0.96</td>\n      <td>...</td>\n      <td>2020-06-15</td>\n      <td>2020-12-09</td>\n      <td>active</td>\n      <td>Semester 2</td>\n      <td>2020</td>\n      <td>6d27c189-cc31-4970-a6b2-49019ce66c3f</td>\n      <td>9409e639-1c34-dbba-0c86-40ceed9af969</td>\n      <td>Mathematics</td>\n      <td>MATHS</td>\n      <td>NaN</td>\n    </tr>\n    <tr>\n      <th>1</th>\n      <td>6d27c189-cc31-4970-a6b2-49019ce66c3f</td>\n      <td>c4e35d50-9b2f-f8ae-6555-58f0949d9b66</td>\n      <td>67046440-439d-5c20-d62f-8ddc655052cf</td>\n      <td>3ff4e152-fe23-90f1-2dc5-795379649da8</td>\n      <td>443d72a3-8eaa-c49e-bdf5-58efb72b9e32</td>\n      <td>ASSIGNED</td>\n      <td>Mathematics Semester Result G07MT1 K</td>\n      <td>2019-06-13 14:00:00+00:00</td>\n      <td>c508f21c-bdb6-5f80-3b7a-bacfdef687c6</td>\n      <td>0.97</td>\n      <td>...</td>\n      <td>2019-01-29</td>\n      <td>2019-06-14</td>\n      <td>active</td>\n      <td>Semester 1</td>\n      <td>2019</td>\n      <td>6d27c189-cc31-4970-a6b2-49019ce66c3f</td>\n      <td>9409e639-1c34-dbba-0c86-40ceed9af969</td>\n      <td>Mathematics</td>\n      <td>MATHS</td>\n      <td>NaN</td>\n    </tr>\n    <tr>\n      <th>2</th>\n      <td>6d27c189-cc31-4970-a6b2-49019ce66c3f</td>\n      <td>c4e44eae-1534-f120-29e1-5d0abff52050</td>\n      <td>6704c9c1-2c77-0533-e04a-e73fa620c87b</td>\n      <td>3ff4e152-fe23-90f1-2dc5-795379649da8</td>\n      <td>443f3130-1ca9-65f0-852c-ab39aeb5be6f</td>\n      <td>ASSIGNED</td>\n      <td>Mathematics Semester One Grade G08MT4 K</td>\n      <td>2020-06-11 14:00:00+00:00</td>\n      <td>c508f942-d586-1a52-6d89-c228eaf745df</td>\n      <td>0.92</td>\n      <td>...</td>\n      <td>2020-01-31</td>\n      <td>2020-06-12</td>\n      <td>active</td>\n      <td>Semester 1</td>\n      <td>2020</td>\n      <td>6d27c189-cc31-4970-a6b2-49019ce66c3f</td>\n      <td>9409e639-1c34-dbba-0c86-40ceed9af969</td>\n      <td>Mathematics</td>\n      <td>MATHS</td>\n      <td>NaN</td>\n    </tr>\n    <tr>\n      <th>3</th>\n      <td>6d27c189-cc31-4970-a6b2-49019ce66c3f</td>\n      <td>c4e49d22-9205-e2b7-afdc-312fd9564810</td>\n      <td>670498db-d726-8504-5ac1-d28ef68b5bcb</td>\n      <td>3ff4e152-fe23-90f1-2dc5-795379649da8</td>\n      <td>443e4335-7376-0acd-2d95-20751949a458</td>\n      <td>ASSIGNED</td>\n      <td>Mathematics Semester result G07MT1 K</td>\n      <td>2019-12-01 14:00:00+00:00</td>\n      <td>c50b8f96-1903-9cfa-4505-f01ca31d6f43</td>\n      <td>0.95</td>\n      <td>...</td>\n      <td>2019-06-17</td>\n      <td>2019-12-11</td>\n      <td>active</td>\n      <td>Semester 2</td>\n      <td>2019</td>\n      <td>6d27c189-cc31-4970-a6b2-49019ce66c3f</td>\n      <td>9409e639-1c34-dbba-0c86-40ceed9af969</td>\n      <td>Mathematics</td>\n      <td>MATHS</td>\n      <td>NaN</td>\n    </tr>\n    <tr>\n      <th>4</th>\n      <td>6d27c189-cc31-4970-a6b2-49019ce66c3f</td>\n      <td>c4e46ea5-e4c8-a3f1-a72d-324c504d8fb3</td>\n      <td>67044b53-5747-9015-5532-332cc438841a</td>\n      <td>3ff4e152-fe23-90f1-2dc5-795379649da8</td>\n      <td>443fa9f5-a241-7aea-31b4-332332ae5592</td>\n      <td>ASSIGNED</td>\n      <td>Mathematics A Semester result G09MA4 K</td>\n      <td>2021-11-24 14:00:00+00:00</td>\n      <td>c51f0189-2fa0-f43e-48c3-3d5e3c155b60</td>\n      <td>0.87</td>\n      <td>...</td>\n      <td>2021-07-13</td>\n      <td>2021-12-10</td>\n      <td>active</td>\n      <td>Semester 2</td>\n      <td>2021</td>\n      <td>6d27c189-cc31-4970-a6b2-49019ce66c3f</td>\n      <td>9409e639-1c34-dbba-0c86-40ceed9af969</td>\n      <td>Mathematics</td>\n      <td>MATHS</td>\n      <td>NaN</td>\n    </tr>\n    <tr>\n      <th>5</th>\n      <td>6d27c189-cc31-4970-a6b2-49019ce66c3f</td>\n      <td>c4e5d6c1-88b9-681b-8a35-1903b9ead6e8</td>\n      <td>670487c2-def4-906e-5a16-fb8b205126fb</td>\n      <td>3ff4e152-fe23-90f1-2dc5-795379649da8</td>\n      <td>443efd23-c19a-0464-7e7d-6f85f085e2d0</td>\n      <td>ASSIGNED</td>\n      <td>Mathematics A Semester Result G09MA4 K</td>\n      <td>2021-06-16 14:00:00+00:00</td>\n      <td>c518b632-d7c1-c050-2cc0-f9ffd7d05340</td>\n      <td>0.83</td>\n      <td>...</td>\n      <td>2021-02-01</td>\n      <td>2021-06-25</td>\n      <td>active</td>\n      <td>Semester 1</td>\n      <td>2021</td>\n      <td>6d27c189-cc31-4970-a6b2-49019ce66c3f</td>\n      <td>9409e639-1c34-dbba-0c86-40ceed9af969</td>\n      <td>Mathematics</td>\n      <td>MATHS</td>\n      <td>NaN</td>\n    </tr>\n  </tbody>\n</table>\n<p>6 rows × 46 columns</p>\n</div>"
                    },
                    "metadata": {},
                    "execution_count": 77,
                    "output_type": "execute_result"
                }
            ],
            "execution_count": 77
        },
        {
            "cell_type": "markdown",
            "source": [
                "**Internal Assessment End-of-Semester Percentiles**\n",
                "\n",
                "**Populate a new dataframe with each _row as a student_ and each _column as a year_**"
            ],
            "metadata": {
                "azdata_cell_guid": "b0ea6add-f0bb-44b1-b821-4d8adbf880b2"
            },
            "attachments": {}
        },
        {
            "cell_type": "code",
            "source": [
                "stu_uuid = internal_NAP_numeric_eos['stu_uuid'].unique()\r\n",
                "school_year = internal_NAP_numeric_eos['school_year'].value_counts().index.tolist()\r\n",
                "title = internal_NAP_numeric_eos['title'].value_counts().index.tolist()\r\n",
                "\r\n",
                "internal_clean = {'stu_uuid': []}\r\n",
                "\r\n",
                "for year in school_year:\r\n",
                "    internal_clean[year] = []\r\n",
                "\r\n",
                "for stud in stu_uuid:\r\n",
                "    internal_clean['stu_uuid'].append(stud)\r\n",
                "    for year in school_year:\r\n",
                "        percentiles = []\r\n",
                "        for sem in title:\r\n",
                "\r\n",
                "            # print(stud, year, sem)\r\n",
                "            year_sem_filt = (internal_NAP_numeric_eos['school_year']==year) & (internal_NAP_numeric_eos['title']==sem)\r\n",
                "            stu_filt = (internal_NAP_numeric_eos['stu_uuid']==stud) & (year_sem_filt)  \r\n",
                "\r\n",
                "            stu_score = internal_NAP_numeric_eos[stu_filt]['result_numeric'].values\r\n",
                "            # print(stu_score)\r\n",
                "\r\n",
                "            if len(stu_score)>0:\r\n",
                "                percentiles.append(\r\n",
                "                    stats.percentileofscore(internal_NAP_numeric_eos[year_sem_filt]['result_numeric'], stu_score[0], kind='weak')\r\n",
                "                ) \r\n",
                "        \r\n",
                "        mean_percentile = None\r\n",
                "        if len(percentiles)>0:\r\n",
                "            mean_percentile = mean(percentiles)\r\n",
                "        internal_clean[year].append(mean_percentile)\r\n",
                "            "
            ],
            "metadata": {
                "azdata_cell_guid": "968531dd-1cfe-41bc-b476-3a3ea3472504",
                "language": "python"
            },
            "outputs": [],
            "execution_count": 90
        },
        {
            "cell_type": "code",
            "source": [
                "internal_df = pd.DataFrame(internal_clean)\r\n",
                "internal_df"
            ],
            "metadata": {
                "language": "python",
                "azdata_cell_guid": "b5a93712-b143-47e4-90c0-00f7bd442396"
            },
            "outputs": [
                {
                    "data": {
                        "text/plain": "                                 stu_uuid       2021       2020       2019\n0    3ff4e152-fe23-90f1-2dc5-795379649da8  78.340974  96.341007  97.545009\n1    3ff4feda-755e-f70e-bcd4-f7509d9e851c   6.800538  14.276356  26.562005\n2    3ff4c00c-98b9-2878-66a8-b0b0b8a804aa  70.117367  58.142162  74.149503\n3    3ff4fd52-852c-a3b0-48ce-1b78aaf3181d  84.598081  90.501591  83.836958\n4    3ff4ed76-9d26-3078-57fc-8589e66130c2  21.124152   2.563434  15.740314\n..                                    ...        ...        ...        ...\n284  3ff4f279-7e51-015f-2610-0976670e4173  30.945046   7.859416  19.533343\n285  3ff4285a-ab65-b922-2c9b-dd0b9e53aea8  39.324531        NaN        NaN\n286  3ff44d2d-2c90-a073-e7ac-e247f5e9a230  51.028791  75.153071  48.916895\n287  3ff40039-4aa0-4514-17c4-02a387932ab7  23.441531  14.258309  10.442172\n288  3ff4596f-cb40-dbe3-e7e4-c632ea523cd5  13.632863   9.148820  11.930001\n\n[289 rows x 4 columns]",
                        "text/html": "<div>\n<style scoped>\n    .dataframe tbody tr th:only-of-type {\n        vertical-align: middle;\n    }\n\n    .dataframe tbody tr th {\n        vertical-align: top;\n    }\n\n    .dataframe thead th {\n        text-align: right;\n    }\n</style>\n<table border=\"1\" class=\"dataframe\">\n  <thead>\n    <tr style=\"text-align: right;\">\n      <th></th>\n      <th>stu_uuid</th>\n      <th>2021</th>\n      <th>2020</th>\n      <th>2019</th>\n    </tr>\n  </thead>\n  <tbody>\n    <tr>\n      <th>0</th>\n      <td>3ff4e152-fe23-90f1-2dc5-795379649da8</td>\n      <td>78.340974</td>\n      <td>96.341007</td>\n      <td>97.545009</td>\n    </tr>\n    <tr>\n      <th>1</th>\n      <td>3ff4feda-755e-f70e-bcd4-f7509d9e851c</td>\n      <td>6.800538</td>\n      <td>14.276356</td>\n      <td>26.562005</td>\n    </tr>\n    <tr>\n      <th>2</th>\n      <td>3ff4c00c-98b9-2878-66a8-b0b0b8a804aa</td>\n      <td>70.117367</td>\n      <td>58.142162</td>\n      <td>74.149503</td>\n    </tr>\n    <tr>\n      <th>3</th>\n      <td>3ff4fd52-852c-a3b0-48ce-1b78aaf3181d</td>\n      <td>84.598081</td>\n      <td>90.501591</td>\n      <td>83.836958</td>\n    </tr>\n    <tr>\n      <th>4</th>\n      <td>3ff4ed76-9d26-3078-57fc-8589e66130c2</td>\n      <td>21.124152</td>\n      <td>2.563434</td>\n      <td>15.740314</td>\n    </tr>\n    <tr>\n      <th>...</th>\n      <td>...</td>\n      <td>...</td>\n      <td>...</td>\n      <td>...</td>\n    </tr>\n    <tr>\n      <th>284</th>\n      <td>3ff4f279-7e51-015f-2610-0976670e4173</td>\n      <td>30.945046</td>\n      <td>7.859416</td>\n      <td>19.533343</td>\n    </tr>\n    <tr>\n      <th>285</th>\n      <td>3ff4285a-ab65-b922-2c9b-dd0b9e53aea8</td>\n      <td>39.324531</td>\n      <td>NaN</td>\n      <td>NaN</td>\n    </tr>\n    <tr>\n      <th>286</th>\n      <td>3ff44d2d-2c90-a073-e7ac-e247f5e9a230</td>\n      <td>51.028791</td>\n      <td>75.153071</td>\n      <td>48.916895</td>\n    </tr>\n    <tr>\n      <th>287</th>\n      <td>3ff40039-4aa0-4514-17c4-02a387932ab7</td>\n      <td>23.441531</td>\n      <td>14.258309</td>\n      <td>10.442172</td>\n    </tr>\n    <tr>\n      <th>288</th>\n      <td>3ff4596f-cb40-dbe3-e7e4-c632ea523cd5</td>\n      <td>13.632863</td>\n      <td>9.148820</td>\n      <td>11.930001</td>\n    </tr>\n  </tbody>\n</table>\n<p>289 rows × 4 columns</p>\n</div>"
                    },
                    "metadata": {},
                    "execution_count": 92,
                    "output_type": "execute_result"
                }
            ],
            "execution_count": 92
        },
        {
            "cell_type": "code",
            "source": [
                "internal_df.to_csv('internal_df.csv', header=True, index=False)"
            ],
            "metadata": {
                "azdata_cell_guid": "2bec8cce-6951-4d4c-9a55-4b2843d39911",
                "language": "python"
            },
            "outputs": [],
            "execution_count": 95
        },
        {
            "cell_type": "markdown",
            "source": [
                "**NAPAN Numeracy Scores**\n",
                "\n",
                "**Populate Dataframe with each row as a student and each column as a year**"
            ],
            "metadata": {
                "azdata_cell_guid": "3dd72a59-b7b2-4588-8932-96fd99aab434"
            },
            "attachments": {}
        },
        {
            "cell_type": "code",
            "source": [
                "test_year = externals['test_year'].value_counts().index.tolist()\r\n",
                "\r\n",
                "external_clean = {'stu_uuid': []}\r\n",
                "\r\n",
                "for year in test_year:\r\n",
                "    external_clean[year] = []\r\n",
                "\r\n",
                "for stud in stu_uuid:\r\n",
                "    external_clean['stu_uuid'].append(stud)\r\n",
                "    for year in test_year:\r\n",
                "        ext_score = externals[(externals['stu_uuid']==stud) & (externals['test_year']==year)]['percentile'].values\r\n",
                "        if len(ext_score)>0:\r\n",
                "            external_clean[year].append(ext_score[0]*100)\r\n",
                "        else:\r\n",
                "            external_clean[year].append(None)"
            ],
            "metadata": {
                "language": "python",
                "azdata_cell_guid": "f4ff9b58-3788-4642-ac53-3883f0cd461d"
            },
            "outputs": [],
            "execution_count": 132
        },
        {
            "cell_type": "code",
            "source": [
                "external_df = pd.DataFrame(external_clean)\r\n",
                "external_df"
            ],
            "metadata": {
                "azdata_cell_guid": "cabad70b-013b-4de7-a6f8-6187f5284f29",
                "language": "python"
            },
            "outputs": [
                {
                    "data": {
                        "text/plain": "                                 stu_uuid       2021       2019       2017  \\\n0    3ff4e152-fe23-90f1-2dc5-795379649da8  91.568297  89.169675        NaN   \n1    3ff4feda-755e-f70e-bcd4-f7509d9e851c  49.072513  18.050542  18.291055   \n2    3ff4c00c-98b9-2878-66a8-b0b0b8a804aa  69.477234  76.173285        NaN   \n3    3ff4fd52-852c-a3b0-48ce-1b78aaf3181d  98.650927  74.548736        NaN   \n4    3ff4ed76-9d26-3078-57fc-8589e66130c2        NaN   6.859206        NaN   \n..                                    ...        ...        ...        ...   \n284  3ff4f279-7e51-015f-2610-0976670e4173  35.750422   4.693141        NaN   \n285  3ff4285a-ab65-b922-2c9b-dd0b9e53aea8  54.300169        NaN        NaN   \n286  3ff44d2d-2c90-a073-e7ac-e247f5e9a230  63.406408  23.104693        NaN   \n287  3ff40039-4aa0-4514-17c4-02a387932ab7  19.730185   7.220217   9.612817   \n288  3ff4596f-cb40-dbe3-e7e4-c632ea523cd5  29.510961  13.537906        NaN   \n\n         2015  2012  2013  \n0         NaN   NaN   NaN  \n1    2.892562   NaN   NaN  \n2         NaN   NaN   NaN  \n3         NaN   NaN   NaN  \n4         NaN   NaN   NaN  \n..        ...   ...   ...  \n284  1.377410   NaN   NaN  \n285       NaN   NaN   NaN  \n286       NaN   NaN   NaN  \n287       NaN   NaN   NaN  \n288       NaN   NaN   NaN  \n\n[289 rows x 7 columns]",
                        "text/html": "<div>\n<style scoped>\n    .dataframe tbody tr th:only-of-type {\n        vertical-align: middle;\n    }\n\n    .dataframe tbody tr th {\n        vertical-align: top;\n    }\n\n    .dataframe thead th {\n        text-align: right;\n    }\n</style>\n<table border=\"1\" class=\"dataframe\">\n  <thead>\n    <tr style=\"text-align: right;\">\n      <th></th>\n      <th>stu_uuid</th>\n      <th>2021</th>\n      <th>2019</th>\n      <th>2017</th>\n      <th>2015</th>\n      <th>2012</th>\n      <th>2013</th>\n    </tr>\n  </thead>\n  <tbody>\n    <tr>\n      <th>0</th>\n      <td>3ff4e152-fe23-90f1-2dc5-795379649da8</td>\n      <td>91.568297</td>\n      <td>89.169675</td>\n      <td>NaN</td>\n      <td>NaN</td>\n      <td>NaN</td>\n      <td>NaN</td>\n    </tr>\n    <tr>\n      <th>1</th>\n      <td>3ff4feda-755e-f70e-bcd4-f7509d9e851c</td>\n      <td>49.072513</td>\n      <td>18.050542</td>\n      <td>18.291055</td>\n      <td>2.892562</td>\n      <td>NaN</td>\n      <td>NaN</td>\n    </tr>\n    <tr>\n      <th>2</th>\n      <td>3ff4c00c-98b9-2878-66a8-b0b0b8a804aa</td>\n      <td>69.477234</td>\n      <td>76.173285</td>\n      <td>NaN</td>\n      <td>NaN</td>\n      <td>NaN</td>\n      <td>NaN</td>\n    </tr>\n    <tr>\n      <th>3</th>\n      <td>3ff4fd52-852c-a3b0-48ce-1b78aaf3181d</td>\n      <td>98.650927</td>\n      <td>74.548736</td>\n      <td>NaN</td>\n      <td>NaN</td>\n      <td>NaN</td>\n      <td>NaN</td>\n    </tr>\n    <tr>\n      <th>4</th>\n      <td>3ff4ed76-9d26-3078-57fc-8589e66130c2</td>\n      <td>NaN</td>\n      <td>6.859206</td>\n      <td>NaN</td>\n      <td>NaN</td>\n      <td>NaN</td>\n      <td>NaN</td>\n    </tr>\n    <tr>\n      <th>...</th>\n      <td>...</td>\n      <td>...</td>\n      <td>...</td>\n      <td>...</td>\n      <td>...</td>\n      <td>...</td>\n      <td>...</td>\n    </tr>\n    <tr>\n      <th>284</th>\n      <td>3ff4f279-7e51-015f-2610-0976670e4173</td>\n      <td>35.750422</td>\n      <td>4.693141</td>\n      <td>NaN</td>\n      <td>1.377410</td>\n      <td>NaN</td>\n      <td>NaN</td>\n    </tr>\n    <tr>\n      <th>285</th>\n      <td>3ff4285a-ab65-b922-2c9b-dd0b9e53aea8</td>\n      <td>54.300169</td>\n      <td>NaN</td>\n      <td>NaN</td>\n      <td>NaN</td>\n      <td>NaN</td>\n      <td>NaN</td>\n    </tr>\n    <tr>\n      <th>286</th>\n      <td>3ff44d2d-2c90-a073-e7ac-e247f5e9a230</td>\n      <td>63.406408</td>\n      <td>23.104693</td>\n      <td>NaN</td>\n      <td>NaN</td>\n      <td>NaN</td>\n      <td>NaN</td>\n    </tr>\n    <tr>\n      <th>287</th>\n      <td>3ff40039-4aa0-4514-17c4-02a387932ab7</td>\n      <td>19.730185</td>\n      <td>7.220217</td>\n      <td>9.612817</td>\n      <td>NaN</td>\n      <td>NaN</td>\n      <td>NaN</td>\n    </tr>\n    <tr>\n      <th>288</th>\n      <td>3ff4596f-cb40-dbe3-e7e4-c632ea523cd5</td>\n      <td>29.510961</td>\n      <td>13.537906</td>\n      <td>NaN</td>\n      <td>NaN</td>\n      <td>NaN</td>\n      <td>NaN</td>\n    </tr>\n  </tbody>\n</table>\n<p>289 rows × 7 columns</p>\n</div>"
                    },
                    "metadata": {},
                    "execution_count": 133,
                    "output_type": "execute_result"
                }
            ],
            "execution_count": 133
        },
        {
            "cell_type": "code",
            "source": [
                "externals['test_year'].value_counts()"
            ],
            "metadata": {
                "azdata_cell_guid": "0e384047-55c0-4a97-9610-2ee174c82a28",
                "language": "python"
            },
            "outputs": [
                {
                    "data": {
                        "text/plain": "2021    287\n2019    266\n2017    137\n2015    104\n2012      1\n2013      1\nName: test_year, dtype: int64"
                    },
                    "metadata": {},
                    "execution_count": 134,
                    "output_type": "execute_result"
                }
            ],
            "execution_count": 134
        },
        {
            "cell_type": "markdown",
            "source": [
                "_We have only significant amount of results for 2021 and 2019_"
            ],
            "metadata": {
                "language": "python",
                "azdata_cell_guid": "b05a3190-795e-41f7-8ae3-fc0b4c4cf9c8"
            },
            "attachments": {}
        },
        {
            "cell_type": "code",
            "source": [
                "external_df.to_csv('external_df.csv', header=True, index=False)"
            ],
            "metadata": {
                "language": "python",
                "azdata_cell_guid": "c552a58c-2e4f-4c19-9cdb-f6d81a823a06"
            },
            "outputs": [],
            "execution_count": 135
        },
        {
            "cell_type": "markdown",
            "source": [
                "**Merge Internal and External Results for 2021 in a single dataframe**"
            ],
            "metadata": {
                "azdata_cell_guid": "9fed3205-dc5d-47be-ae34-8fa3b9d9fd89"
            },
            "attachments": {}
        },
        {
            "cell_type": "code",
            "source": [
                "internal_df.set_index('stu_uuid', inplace=True)\r\n",
                "external_df.set_index('stu_uuid', inplace=True)"
            ],
            "metadata": {
                "language": "python",
                "azdata_cell_guid": "36ea3c19-d59f-4e40-b238-ece88dc26d5d"
            },
            "outputs": [],
            "execution_count": null
        },
        {
            "cell_type": "code",
            "source": [
                "merged2021 = pd.DataFrame({'naplan_2021': external_df[2021]}, index=external_df.index)\r\n",
                "merged2021 = pd.concat([internal_df[2021], merged2021], axis=1)"
            ],
            "metadata": {
                "language": "python",
                "azdata_cell_guid": "18807385-5445-4fb7-bdb7-62e7362c834d"
            },
            "outputs": [],
            "execution_count": 142
        },
        {
            "cell_type": "code",
            "source": [
                "merged2021 = merged2021.dropna()"
            ],
            "metadata": {
                "azdata_cell_guid": "5dd9788e-65d2-4a46-a88f-c9567b5e7962",
                "language": "python"
            },
            "outputs": [],
            "execution_count": 146
        },
        {
            "cell_type": "code",
            "source": [
                "merged2021"
            ],
            "metadata": {
                "azdata_cell_guid": "bcc69edc-932a-4a35-80ca-94336f240349",
                "language": "python"
            },
            "outputs": [
                {
                    "data": {
                        "text/plain": "                                           2021  naplan_2021\nstu_uuid                                                    \n3ff4e152-fe23-90f1-2dc5-795379649da8  78.340974    91.568297\n3ff4feda-755e-f70e-bcd4-f7509d9e851c   6.800538    49.072513\n3ff4c00c-98b9-2878-66a8-b0b0b8a804aa  70.117367    69.477234\n3ff4fd52-852c-a3b0-48ce-1b78aaf3181d  84.598081    98.650927\n3ff4fc5a-2482-0435-8fb3-10b7db06f63c  51.750107    87.689713\n...                                         ...          ...\n3ff4f279-7e51-015f-2610-0976670e4173  30.945046    35.750422\n3ff4285a-ab65-b922-2c9b-dd0b9e53aea8  39.324531    54.300169\n3ff44d2d-2c90-a073-e7ac-e247f5e9a230  51.028791    63.406408\n3ff40039-4aa0-4514-17c4-02a387932ab7  23.441531    19.730185\n3ff4596f-cb40-dbe3-e7e4-c632ea523cd5  13.632863    29.510961\n\n[287 rows x 2 columns]",
                        "text/html": "<div>\n<style scoped>\n    .dataframe tbody tr th:only-of-type {\n        vertical-align: middle;\n    }\n\n    .dataframe tbody tr th {\n        vertical-align: top;\n    }\n\n    .dataframe thead th {\n        text-align: right;\n    }\n</style>\n<table border=\"1\" class=\"dataframe\">\n  <thead>\n    <tr style=\"text-align: right;\">\n      <th></th>\n      <th>2021</th>\n      <th>naplan_2021</th>\n    </tr>\n    <tr>\n      <th>stu_uuid</th>\n      <th></th>\n      <th></th>\n    </tr>\n  </thead>\n  <tbody>\n    <tr>\n      <th>3ff4e152-fe23-90f1-2dc5-795379649da8</th>\n      <td>78.340974</td>\n      <td>91.568297</td>\n    </tr>\n    <tr>\n      <th>3ff4feda-755e-f70e-bcd4-f7509d9e851c</th>\n      <td>6.800538</td>\n      <td>49.072513</td>\n    </tr>\n    <tr>\n      <th>3ff4c00c-98b9-2878-66a8-b0b0b8a804aa</th>\n      <td>70.117367</td>\n      <td>69.477234</td>\n    </tr>\n    <tr>\n      <th>3ff4fd52-852c-a3b0-48ce-1b78aaf3181d</th>\n      <td>84.598081</td>\n      <td>98.650927</td>\n    </tr>\n    <tr>\n      <th>3ff4fc5a-2482-0435-8fb3-10b7db06f63c</th>\n      <td>51.750107</td>\n      <td>87.689713</td>\n    </tr>\n    <tr>\n      <th>...</th>\n      <td>...</td>\n      <td>...</td>\n    </tr>\n    <tr>\n      <th>3ff4f279-7e51-015f-2610-0976670e4173</th>\n      <td>30.945046</td>\n      <td>35.750422</td>\n    </tr>\n    <tr>\n      <th>3ff4285a-ab65-b922-2c9b-dd0b9e53aea8</th>\n      <td>39.324531</td>\n      <td>54.300169</td>\n    </tr>\n    <tr>\n      <th>3ff44d2d-2c90-a073-e7ac-e247f5e9a230</th>\n      <td>51.028791</td>\n      <td>63.406408</td>\n    </tr>\n    <tr>\n      <th>3ff40039-4aa0-4514-17c4-02a387932ab7</th>\n      <td>23.441531</td>\n      <td>19.730185</td>\n    </tr>\n    <tr>\n      <th>3ff4596f-cb40-dbe3-e7e4-c632ea523cd5</th>\n      <td>13.632863</td>\n      <td>29.510961</td>\n    </tr>\n  </tbody>\n</table>\n<p>287 rows × 2 columns</p>\n</div>"
                    },
                    "metadata": {},
                    "execution_count": 149,
                    "output_type": "execute_result"
                }
            ],
            "execution_count": 149
        },
        {
            "cell_type": "code",
            "source": [
                "merged2021.to_csv('merged_2021.csv', header=True, index=True)"
            ],
            "metadata": {
                "language": "python",
                "azdata_cell_guid": "a88aee70-13f7-4e45-9991-2df1db474e53"
            },
            "outputs": [],
            "execution_count": 150
        },
        {
            "cell_type": "code",
            "source": [
                "pd.read_csv('merged_2021.csv', index_col='stu_uuid')"
            ],
            "metadata": {
                "language": "python",
                "azdata_cell_guid": "7d33c975-19a1-4c5e-8976-9d1ee8ccc23b"
            },
            "outputs": [
                {
                    "data": {
                        "text/plain": "                                           2021  naplan_2021\nstu_uuid                                                    \n3ff4e152-fe23-90f1-2dc5-795379649da8  78.340974    91.568297\n3ff4feda-755e-f70e-bcd4-f7509d9e851c   6.800538    49.072513\n3ff4c00c-98b9-2878-66a8-b0b0b8a804aa  70.117367    69.477234\n3ff4fd52-852c-a3b0-48ce-1b78aaf3181d  84.598081    98.650927\n3ff4fc5a-2482-0435-8fb3-10b7db06f63c  51.750107    87.689713\n...                                         ...          ...\n3ff4f279-7e51-015f-2610-0976670e4173  30.945046    35.750422\n3ff4285a-ab65-b922-2c9b-dd0b9e53aea8  39.324531    54.300169\n3ff44d2d-2c90-a073-e7ac-e247f5e9a230  51.028791    63.406408\n3ff40039-4aa0-4514-17c4-02a387932ab7  23.441531    19.730185\n3ff4596f-cb40-dbe3-e7e4-c632ea523cd5  13.632863    29.510961\n\n[287 rows x 2 columns]",
                        "text/html": "<div>\n<style scoped>\n    .dataframe tbody tr th:only-of-type {\n        vertical-align: middle;\n    }\n\n    .dataframe tbody tr th {\n        vertical-align: top;\n    }\n\n    .dataframe thead th {\n        text-align: right;\n    }\n</style>\n<table border=\"1\" class=\"dataframe\">\n  <thead>\n    <tr style=\"text-align: right;\">\n      <th></th>\n      <th>2021</th>\n      <th>naplan_2021</th>\n    </tr>\n    <tr>\n      <th>stu_uuid</th>\n      <th></th>\n      <th></th>\n    </tr>\n  </thead>\n  <tbody>\n    <tr>\n      <th>3ff4e152-fe23-90f1-2dc5-795379649da8</th>\n      <td>78.340974</td>\n      <td>91.568297</td>\n    </tr>\n    <tr>\n      <th>3ff4feda-755e-f70e-bcd4-f7509d9e851c</th>\n      <td>6.800538</td>\n      <td>49.072513</td>\n    </tr>\n    <tr>\n      <th>3ff4c00c-98b9-2878-66a8-b0b0b8a804aa</th>\n      <td>70.117367</td>\n      <td>69.477234</td>\n    </tr>\n    <tr>\n      <th>3ff4fd52-852c-a3b0-48ce-1b78aaf3181d</th>\n      <td>84.598081</td>\n      <td>98.650927</td>\n    </tr>\n    <tr>\n      <th>3ff4fc5a-2482-0435-8fb3-10b7db06f63c</th>\n      <td>51.750107</td>\n      <td>87.689713</td>\n    </tr>\n    <tr>\n      <th>...</th>\n      <td>...</td>\n      <td>...</td>\n    </tr>\n    <tr>\n      <th>3ff4f279-7e51-015f-2610-0976670e4173</th>\n      <td>30.945046</td>\n      <td>35.750422</td>\n    </tr>\n    <tr>\n      <th>3ff4285a-ab65-b922-2c9b-dd0b9e53aea8</th>\n      <td>39.324531</td>\n      <td>54.300169</td>\n    </tr>\n    <tr>\n      <th>3ff44d2d-2c90-a073-e7ac-e247f5e9a230</th>\n      <td>51.028791</td>\n      <td>63.406408</td>\n    </tr>\n    <tr>\n      <th>3ff40039-4aa0-4514-17c4-02a387932ab7</th>\n      <td>23.441531</td>\n      <td>19.730185</td>\n    </tr>\n    <tr>\n      <th>3ff4596f-cb40-dbe3-e7e4-c632ea523cd5</th>\n      <td>13.632863</td>\n      <td>29.510961</td>\n    </tr>\n  </tbody>\n</table>\n<p>287 rows × 2 columns</p>\n</div>"
                    },
                    "metadata": {},
                    "execution_count": 152,
                    "output_type": "execute_result"
                }
            ],
            "execution_count": 152
        },
        {
            "cell_type": "code",
            "source": [
                "filt2 = internal_NAP_numeric['stu_uuid'] == internal_NAP_numeric.loc[0, 'stu_uuid']\r\n",
                "# internal_NAP_numeric[filt2][~internal_NAP_numeric[filt2]['result_numeric'].isna()]\r\n",
                "internal_NAP_numeric[filt2]['description'].value_counts()"
            ],
            "metadata": {
                "language": "python",
                "azdata_cell_guid": "0807973c-bb88-4216-a1c2-3cf9fe1e324f"
            },
            "outputs": [
                {
                    "data": {
                        "text/plain": "Common Tasks       21\nEnd of Semester     6\nAssessment Task     4\nQuiz                4\nOther               2\nHomework            2\nName: description, dtype: int64"
                    },
                    "metadata": {},
                    "execution_count": 38,
                    "output_type": "execute_result"
                }
            ],
            "execution_count": 38
        }
    ]
}