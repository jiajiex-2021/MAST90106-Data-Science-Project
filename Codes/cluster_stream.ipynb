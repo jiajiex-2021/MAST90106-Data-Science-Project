{
    "metadata": {
        "kernelspec": {
            "name": "python3",
            "display_name": "Python 3 (ipykernel)",
            "language": "python"
        },
        "language_info": {
            "name": "python",
            "version": "3.8.10",
            "mimetype": "text/x-python",
            "codemirror_mode": {
                "name": "ipython",
                "version": 3
            },
            "pygments_lexer": "ipython3",
            "nbconvert_exporter": "python",
            "file_extension": ".py"
        }
    },
    "nbformat_minor": 2,
    "nbformat": 4,
    "cells": [
        {
            "cell_type": "code",
            "source": [
                "import pandas as pd\r\n",
                "import psycopg2\r\n",
                "\r\n",
                "# Connect to your postgres DB\r\n",
                "conn = psycopg2.connect(database=\"postgres\", host=\"is-postgres-au-vic.postgres.database.azure.com\", user=\"ds@is-postgres-au-vic\", password='P\":VQ:7yD?ha!r7\"yWsmT15n7-RbT')\r\n",
                "\r\n",
                "# Open a cursor to perform database operations\r\n",
                "cur = conn.cursor()"
            ],
            "metadata": {
                "azdata_cell_guid": "a3dd7100-194d-4a2b-92e9-e209de5d20bb",
                "language": "python"
            },
            "outputs": [],
            "execution_count": 3
        },
        {
            "cell_type": "code",
            "source": [
                "target_df = pd.read_csv('naplan_all_year_only.csv', index_col='stu_uuid')\r\n",
                "target_df = target_df.iloc[:,1:]\r\n",
                "temp = target_df.index.tolist()"
            ],
            "metadata": {
                "language": "python",
                "azdata_cell_guid": "16bcbf51-bb1e-407d-a044-416ccf805faa"
            },
            "outputs": [],
            "execution_count": 6
        },
        {
            "cell_type": "code",
            "source": [
                "query2 = \"\"\"\r\n",
                "\r\n",
                "select lin.*, qst.* \r\n",
                "from ds.mv_external_result_line as lin, ds.mv_external_results as ext, ds.mv_external_result_question as qst \r\n",
                "where lin.stu_uuid IN %(temp)s and lin.stu_uuid=ext.stu_uuid and \r\n",
                "lin.extr_uuid=ext.extr_uuid and ext.external_result_type_name='NAPLAN' and ext.assessment_component='Numeracy' and\r\n",
                "qst.lerq_uuid=lin.lertq_uuid\r\n",
                "\r\n",
                "\"\"\"\r\n",
                "\r\n",
                "cur.execute(query2, { # You can pass a dict for named parameters rather than a tuple. Makes debugging hella easier.\r\n",
                "    'temp': tuple(temp), # Converts the list to a tuple.\r\n",
                "})\r\n",
                "\r\n",
                "# Retrieve query results\r\n",
                "records = cur.fetchall()\r\n",
                "\r\n",
                "pd.DataFrame(records)"
            ],
            "metadata": {
                "language": "python",
                "azdata_cell_guid": "db8ebb12-5ce9-46fa-a81c-0fd036418259"
            },
            "outputs": [],
            "execution_count": null
        },
        {
            "cell_type": "code",
            "source": [
                "query2 = \"\"\"\r\n",
                "SELECT extr_uuid FROM ds.mv_external_results ext where ext.stu_uuid IN %(temp)s and ext.external_result_type_name='NAPLAN' and ext.assessment_component='Numeracy'\r\n",
                "\"\"\"\r\n",
                "\r\n",
                "\r\n",
                "cur.execute(query2, { # You can pass a dict for named parameters rather than a tuple. Makes debugging hella easier.\r\n",
                "    'temp': tuple(temp), # Converts the list to a tuple.\r\n",
                "})\r\n",
                "\r\n",
                "# Retrieve query results\r\n",
                "records = cur.fetchall()\r\n",
                "\r\n",
                "test_ids = pd.DataFrame(records)"
            ],
            "metadata": {
                "language": "python",
                "azdata_cell_guid": "3944d1db-90a6-4f5e-a884-985690da52d0"
            },
            "outputs": [],
            "execution_count": 9
        },
        {
            "cell_type": "code",
            "source": [
                "query3 = \"\"\"\r\n",
                "SELECT extr_uuid FROM ds.mv_external_results ext where ext.stu_uuid IN %(temp)s and ext.external_result_type_name='NAPLAN' and ext.assessment_component='Numeracy'\r\n",
                "\"\"\"\r\n",
                "\r\n",
                "\r\n",
                "cur.execute(query2, { # You can pass a dict for named parameters rather than a tuple. Makes debugging hella easier.\r\n",
                "    'temp': tuple(temp), # Converts the list to a tuple.\r\n",
                "})\r\n",
                "\r\n",
                "# Retrieve query results\r\n",
                "records = cur.fetchall()\r\n",
                "\r\n",
                "test_ids = pd.DataFrame(records)"
            ],
            "metadata": {
                "language": "python",
                "azdata_cell_guid": "577d1c5e-ec49-42ee-84e3-a826a1d26836"
            },
            "outputs": [
                {
                    "data": {
                        "text/plain": "1424"
                    },
                    "metadata": {},
                    "execution_count": 10,
                    "output_type": "execute_result"
                }
            ],
            "execution_count": 10
        },
        {
            "cell_type": "code",
            "source": [
                "clustered_target_df = pd.read_csv(\"clustered_target_df.csv\")\r\n",
                "question_details_df = pd.read_csv(\"question_details_df.csv\")\r\n",
                "# question_details_df[\"label\"].value_counts()\r\n",
                "\r\n",
                "\r\n",
                ""
            ],
            "metadata": {
                "language": "python",
                "azdata_cell_guid": "96c2f85c-e6e6-4da2-97f8-169a82932471"
            },
            "outputs": [],
            "execution_count": 26
        },
        {
            "cell_type": "code",
            "source": [
                "cluster_no = 7\r\n",
                "cluster_stuids = clustered_target_df[clustered_target_df[\"cluster_number\"]==cluster_no][\"stu_uuid\"]\r\n",
                "\r\n",
                "cluster_question_df = question_details_df[question_details_df['stu_uuid'].isin(cluster_stuids)]\r\n",
                ""
            ],
            "metadata": {
                "language": "python",
                "azdata_cell_guid": "a601f043-5d44-4d86-b1bd-50894f0dfcea"
            },
            "outputs": [],
            "execution_count": 29
        },
        {
            "cell_type": "code",
            "source": [
                "cluster_question_df[[\"stu_uuid\",]]"
            ],
            "metadata": {
                "language": "python",
                "azdata_cell_guid": "0180449f-312b-4c9e-ac39-b9fdf60d3f3b"
            },
            "outputs": [
                {
                    "data": {
                        "text/plain": "                                erline_uuid  \\\n1      b1c6cd05-433a-96ba-d5f7-eb8c6bb5702a   \n2      b1c6cdaf-90bb-0ee6-ca69-d48a3c6d6f77   \n3      b1c6f043-1709-3a89-410c-199bfe8298da   \n4      b1c64201-7dba-5c26-fbb0-295272db59f8   \n5      b0dd71d3-3a09-8245-0717-1e38e93516f0   \n...                                     ...   \n35116  b0bb13f1-5d28-aca4-95d3-49daeaea9f1e   \n35119  b0bc8741-b0d8-85e6-1a3f-b801d1b45f24   \n35123  b0bcff77-fa1a-0fa8-6d85-57e87faeff76   \n35145  b0bc8e6c-d9f1-39c0-1fa5-0376ec80e58d   \n35169  b0bc876a-e3d1-fc6c-49ed-349f6d984836   \n\n                                   tnt_uuid  \\\n1      6d27c189-cc31-4970-a6b2-49019ce66c3f   \n2      6d27c189-cc31-4970-a6b2-49019ce66c3f   \n3      6d27c189-cc31-4970-a6b2-49019ce66c3f   \n4      6d27c189-cc31-4970-a6b2-49019ce66c3f   \n5      6d27c189-cc31-4970-a6b2-49019ce66c3f   \n...                                     ...   \n35116  6d27c189-cc31-4970-a6b2-49019ce66c3f   \n35119  6d27c189-cc31-4970-a6b2-49019ce66c3f   \n35123  6d27c189-cc31-4970-a6b2-49019ce66c3f   \n35145  6d27c189-cc31-4970-a6b2-49019ce66c3f   \n35169  6d27c189-cc31-4970-a6b2-49019ce66c3f   \n\n                                   stu_uuid  \\\n1      3ff46da7-4fb9-70dd-1e7a-03b9f74405a8   \n2      3ff46da7-4fb9-70dd-1e7a-03b9f74405a8   \n3      3ff46da7-4fb9-70dd-1e7a-03b9f74405a8   \n4      3ff46da7-4fb9-70dd-1e7a-03b9f74405a8   \n5      3ff46da7-4fb9-70dd-1e7a-03b9f74405a8   \n...                                     ...   \n35116  3ff4ef13-9bd1-b207-8a0c-32b56f18435e   \n35119  3ff48e35-31a5-e79c-59ee-217185c4f4b7   \n35123  3ff457af-3961-dc05-c60f-f03812521f56   \n35145  3ff466c0-8d03-478b-f1d0-d903566d8551   \n35169  3ff4241d-5b45-17e3-794c-adbbe616c000   \n\n                                  extr_uuid  \\\n1      b1c59763-0d10-28c7-109a-565a013dad5c   \n2      b1c59763-0d10-28c7-109a-565a013dad5c   \n3      b1c59763-0d10-28c7-109a-565a013dad5c   \n4      b1c59763-0d10-28c7-109a-565a013dad5c   \n5      b0dcafdf-4606-a909-596c-d9a7d585a640   \n...                                     ...   \n35116  b0bbeb3f-5245-09bc-e5d8-9837ae753888   \n35119  b0bbbb2c-fb2d-7a0a-320a-1e28b298e985   \n35123  b0bb38aa-51c7-ef22-4421-f55777cfd57a   \n35145  b0bbf0c0-ed57-6efd-5b68-194e418ddf30   \n35169  b0bbd3ff-b7ba-a66f-540c-eac3b3298541   \n\n                                 lertq_uuid                           ext_id  \\\n1      a3185369-5d0b-ba34-75b7-e75619ed181f       2019-5|1774518|NUMERACY-02   \n2      a318686e-dd8d-e2fd-3711-cf783cb03239       2019-5|1774518|NUMERACY-15   \n3      a318756b-88b0-94ca-57a9-9e68716f94ba       2019-5|1774518|NUMERACY-16   \n4      a3185d1d-65fa-f58d-ae16-2394dd98066d       2019-5|1774518|NUMERACY-17   \n5      d75ba1e7-6b0b-c39b-08e2-d699e94e0e5a  2021-7|1774518|NUMERACY_CALC-12   \n...                                     ...                              ...   \n35116  d75bfbb4-ffa3-c3ac-1ffc-ed5dea8433b8  2021-9|1598275|NUMERACY_CALC-18   \n35119  d75bfbb4-ffa3-c3ac-1ffc-ed5dea8433b8  2021-9|1598406|NUMERACY_CALC-18   \n35123  d75bfbb4-ffa3-c3ac-1ffc-ed5dea8433b8  2021-9|1598418|NUMERACY_CALC-18   \n35145  d75bfbb4-ffa3-c3ac-1ffc-ed5dea8433b8  2021-9|1598308|NUMERACY_CALC-18   \n35169  d75bfbb4-ffa3-c3ac-1ffc-ed5dea8433b8  2021-9|1598426|NUMERACY_CALC-18   \n\n       result_numeric  result_text  response  is_correct  ...  created_user  \\\n1                 NaN          NaN       NaN        True  ...           NaN   \n2                 NaN          NaN       NaN        True  ...           NaN   \n3                 NaN          NaN       NaN        True  ...           NaN   \n4                 NaN          NaN       NaN       False  ...           NaN   \n5                 NaN          NaN       NaN        True  ...           NaN   \n...               ...          ...       ...         ...  ...           ...   \n35116             NaN          NaN       NaN        True  ...           NaN   \n35119             NaN          NaN       NaN        True  ...           NaN   \n35123             NaN          NaN       NaN        True  ...           NaN   \n35145             NaN          NaN       NaN        True  ...           NaN   \n35169             NaN          NaN       NaN        True  ...           NaN   \n\n                          created_connector                           updated  \\\n1      9610618b-a23a-48d4-a7fb-04985df964ea  2022-03-04 05:58:25.395806+00:00   \n2      9610618b-a23a-48d4-a7fb-04985df964ea  2022-03-04 05:58:25.395806+00:00   \n3      9610618b-a23a-48d4-a7fb-04985df964ea  2022-03-04 05:58:25.395806+00:00   \n4      9610618b-a23a-48d4-a7fb-04985df964ea  2022-03-04 05:58:25.395806+00:00   \n5      9610618b-a23a-48d4-a7fb-04985df964ea  2022-03-04 02:05:36.349769+00:00   \n...                                     ...                               ...   \n35116  9610618b-a23a-48d4-a7fb-04985df964ea  2022-03-04 01:31:52.438675+00:00   \n35119  9610618b-a23a-48d4-a7fb-04985df964ea  2022-03-04 01:32:09.595138+00:00   \n35123  9610618b-a23a-48d4-a7fb-04985df964ea  2022-03-04 01:32:23.735946+00:00   \n35145  9610618b-a23a-48d4-a7fb-04985df964ea  2022-03-04 01:32:27.767287+00:00   \n35169  9610618b-a23a-48d4-a7fb-04985df964ea  2022-03-04 01:32:33.892275+00:00   \n\n      updated_user                     updated_connector  _is_sql attempted  \\\n1              NaN  9610618b-a23a-48d4-a7fb-04985df964ea      NaN      True   \n2              NaN  9610618b-a23a-48d4-a7fb-04985df964ea      NaN      True   \n3              NaN  9610618b-a23a-48d4-a7fb-04985df964ea      NaN      True   \n4              NaN  9610618b-a23a-48d4-a7fb-04985df964ea      NaN      True   \n5              NaN  9610618b-a23a-48d4-a7fb-04985df964ea      NaN      True   \n...            ...                                   ...      ...       ...   \n35116          NaN  9610618b-a23a-48d4-a7fb-04985df964ea      NaN      True   \n35119          NaN  9610618b-a23a-48d4-a7fb-04985df964ea      NaN      True   \n35123          NaN  9610618b-a23a-48d4-a7fb-04985df964ea      NaN      True   \n35145          NaN  9610618b-a23a-48d4-a7fb-04985df964ea      NaN      True   \n35169          NaN  9610618b-a23a-48d4-a7fb-04985df964ea      NaN      True   \n\n       presented                       label  year_level  \n1           True  STATISTICS AND PROBABILITY           5  \n2           True    MEASUREMENT AND GEOMETRY           5  \n3           True    MEASUREMENT AND GEOMETRY           5  \n4           True          NUMBER AND ALGEBRA           5  \n5           True    MEASUREMENT AND GEOMETRY           7  \n...          ...                         ...         ...  \n35116       True          NUMBER AND ALGEBRA           9  \n35119       True          NUMBER AND ALGEBRA           9  \n35123       True          NUMBER AND ALGEBRA           9  \n35145       True          NUMBER AND ALGEBRA           9  \n35169       True          NUMBER AND ALGEBRA           9  \n\n[1461 rows x 22 columns]",
                        "text/html": "<div>\n<style scoped>\n    .dataframe tbody tr th:only-of-type {\n        vertical-align: middle;\n    }\n\n    .dataframe tbody tr th {\n        vertical-align: top;\n    }\n\n    .dataframe thead th {\n        text-align: right;\n    }\n</style>\n<table border=\"1\" class=\"dataframe\">\n  <thead>\n    <tr style=\"text-align: right;\">\n      <th></th>\n      <th>erline_uuid</th>\n      <th>tnt_uuid</th>\n      <th>stu_uuid</th>\n      <th>extr_uuid</th>\n      <th>lertq_uuid</th>\n      <th>ext_id</th>\n      <th>result_numeric</th>\n      <th>result_text</th>\n      <th>response</th>\n      <th>is_correct</th>\n      <th>...</th>\n      <th>created_user</th>\n      <th>created_connector</th>\n      <th>updated</th>\n      <th>updated_user</th>\n      <th>updated_connector</th>\n      <th>_is_sql</th>\n      <th>attempted</th>\n      <th>presented</th>\n      <th>label</th>\n      <th>year_level</th>\n    </tr>\n  </thead>\n  <tbody>\n    <tr>\n      <th>1</th>\n      <td>b1c6cd05-433a-96ba-d5f7-eb8c6bb5702a</td>\n      <td>6d27c189-cc31-4970-a6b2-49019ce66c3f</td>\n      <td>3ff46da7-4fb9-70dd-1e7a-03b9f74405a8</td>\n      <td>b1c59763-0d10-28c7-109a-565a013dad5c</td>\n      <td>a3185369-5d0b-ba34-75b7-e75619ed181f</td>\n      <td>2019-5|1774518|NUMERACY-02</td>\n      <td>NaN</td>\n      <td>NaN</td>\n      <td>NaN</td>\n      <td>True</td>\n      <td>...</td>\n      <td>NaN</td>\n      <td>9610618b-a23a-48d4-a7fb-04985df964ea</td>\n      <td>2022-03-04 05:58:25.395806+00:00</td>\n      <td>NaN</td>\n      <td>9610618b-a23a-48d4-a7fb-04985df964ea</td>\n      <td>NaN</td>\n      <td>True</td>\n      <td>True</td>\n      <td>STATISTICS AND PROBABILITY</td>\n      <td>5</td>\n    </tr>\n    <tr>\n      <th>2</th>\n      <td>b1c6cdaf-90bb-0ee6-ca69-d48a3c6d6f77</td>\n      <td>6d27c189-cc31-4970-a6b2-49019ce66c3f</td>\n      <td>3ff46da7-4fb9-70dd-1e7a-03b9f74405a8</td>\n      <td>b1c59763-0d10-28c7-109a-565a013dad5c</td>\n      <td>a318686e-dd8d-e2fd-3711-cf783cb03239</td>\n      <td>2019-5|1774518|NUMERACY-15</td>\n      <td>NaN</td>\n      <td>NaN</td>\n      <td>NaN</td>\n      <td>True</td>\n      <td>...</td>\n      <td>NaN</td>\n      <td>9610618b-a23a-48d4-a7fb-04985df964ea</td>\n      <td>2022-03-04 05:58:25.395806+00:00</td>\n      <td>NaN</td>\n      <td>9610618b-a23a-48d4-a7fb-04985df964ea</td>\n      <td>NaN</td>\n      <td>True</td>\n      <td>True</td>\n      <td>MEASUREMENT AND GEOMETRY</td>\n      <td>5</td>\n    </tr>\n    <tr>\n      <th>3</th>\n      <td>b1c6f043-1709-3a89-410c-199bfe8298da</td>\n      <td>6d27c189-cc31-4970-a6b2-49019ce66c3f</td>\n      <td>3ff46da7-4fb9-70dd-1e7a-03b9f74405a8</td>\n      <td>b1c59763-0d10-28c7-109a-565a013dad5c</td>\n      <td>a318756b-88b0-94ca-57a9-9e68716f94ba</td>\n      <td>2019-5|1774518|NUMERACY-16</td>\n      <td>NaN</td>\n      <td>NaN</td>\n      <td>NaN</td>\n      <td>True</td>\n      <td>...</td>\n      <td>NaN</td>\n      <td>9610618b-a23a-48d4-a7fb-04985df964ea</td>\n      <td>2022-03-04 05:58:25.395806+00:00</td>\n      <td>NaN</td>\n      <td>9610618b-a23a-48d4-a7fb-04985df964ea</td>\n      <td>NaN</td>\n      <td>True</td>\n      <td>True</td>\n      <td>MEASUREMENT AND GEOMETRY</td>\n      <td>5</td>\n    </tr>\n    <tr>\n      <th>4</th>\n      <td>b1c64201-7dba-5c26-fbb0-295272db59f8</td>\n      <td>6d27c189-cc31-4970-a6b2-49019ce66c3f</td>\n      <td>3ff46da7-4fb9-70dd-1e7a-03b9f74405a8</td>\n      <td>b1c59763-0d10-28c7-109a-565a013dad5c</td>\n      <td>a3185d1d-65fa-f58d-ae16-2394dd98066d</td>\n      <td>2019-5|1774518|NUMERACY-17</td>\n      <td>NaN</td>\n      <td>NaN</td>\n      <td>NaN</td>\n      <td>False</td>\n      <td>...</td>\n      <td>NaN</td>\n      <td>9610618b-a23a-48d4-a7fb-04985df964ea</td>\n      <td>2022-03-04 05:58:25.395806+00:00</td>\n      <td>NaN</td>\n      <td>9610618b-a23a-48d4-a7fb-04985df964ea</td>\n      <td>NaN</td>\n      <td>True</td>\n      <td>True</td>\n      <td>NUMBER AND ALGEBRA</td>\n      <td>5</td>\n    </tr>\n    <tr>\n      <th>5</th>\n      <td>b0dd71d3-3a09-8245-0717-1e38e93516f0</td>\n      <td>6d27c189-cc31-4970-a6b2-49019ce66c3f</td>\n      <td>3ff46da7-4fb9-70dd-1e7a-03b9f74405a8</td>\n      <td>b0dcafdf-4606-a909-596c-d9a7d585a640</td>\n      <td>d75ba1e7-6b0b-c39b-08e2-d699e94e0e5a</td>\n      <td>2021-7|1774518|NUMERACY_CALC-12</td>\n      <td>NaN</td>\n      <td>NaN</td>\n      <td>NaN</td>\n      <td>True</td>\n      <td>...</td>\n      <td>NaN</td>\n      <td>9610618b-a23a-48d4-a7fb-04985df964ea</td>\n      <td>2022-03-04 02:05:36.349769+00:00</td>\n      <td>NaN</td>\n      <td>9610618b-a23a-48d4-a7fb-04985df964ea</td>\n      <td>NaN</td>\n      <td>True</td>\n      <td>True</td>\n      <td>MEASUREMENT AND GEOMETRY</td>\n      <td>7</td>\n    </tr>\n    <tr>\n      <th>...</th>\n      <td>...</td>\n      <td>...</td>\n      <td>...</td>\n      <td>...</td>\n      <td>...</td>\n      <td>...</td>\n      <td>...</td>\n      <td>...</td>\n      <td>...</td>\n      <td>...</td>\n      <td>...</td>\n      <td>...</td>\n      <td>...</td>\n      <td>...</td>\n      <td>...</td>\n      <td>...</td>\n      <td>...</td>\n      <td>...</td>\n      <td>...</td>\n      <td>...</td>\n      <td>...</td>\n    </tr>\n    <tr>\n      <th>35116</th>\n      <td>b0bb13f1-5d28-aca4-95d3-49daeaea9f1e</td>\n      <td>6d27c189-cc31-4970-a6b2-49019ce66c3f</td>\n      <td>3ff4ef13-9bd1-b207-8a0c-32b56f18435e</td>\n      <td>b0bbeb3f-5245-09bc-e5d8-9837ae753888</td>\n      <td>d75bfbb4-ffa3-c3ac-1ffc-ed5dea8433b8</td>\n      <td>2021-9|1598275|NUMERACY_CALC-18</td>\n      <td>NaN</td>\n      <td>NaN</td>\n      <td>NaN</td>\n      <td>True</td>\n      <td>...</td>\n      <td>NaN</td>\n      <td>9610618b-a23a-48d4-a7fb-04985df964ea</td>\n      <td>2022-03-04 01:31:52.438675+00:00</td>\n      <td>NaN</td>\n      <td>9610618b-a23a-48d4-a7fb-04985df964ea</td>\n      <td>NaN</td>\n      <td>True</td>\n      <td>True</td>\n      <td>NUMBER AND ALGEBRA</td>\n      <td>9</td>\n    </tr>\n    <tr>\n      <th>35119</th>\n      <td>b0bc8741-b0d8-85e6-1a3f-b801d1b45f24</td>\n      <td>6d27c189-cc31-4970-a6b2-49019ce66c3f</td>\n      <td>3ff48e35-31a5-e79c-59ee-217185c4f4b7</td>\n      <td>b0bbbb2c-fb2d-7a0a-320a-1e28b298e985</td>\n      <td>d75bfbb4-ffa3-c3ac-1ffc-ed5dea8433b8</td>\n      <td>2021-9|1598406|NUMERACY_CALC-18</td>\n      <td>NaN</td>\n      <td>NaN</td>\n      <td>NaN</td>\n      <td>True</td>\n      <td>...</td>\n      <td>NaN</td>\n      <td>9610618b-a23a-48d4-a7fb-04985df964ea</td>\n      <td>2022-03-04 01:32:09.595138+00:00</td>\n      <td>NaN</td>\n      <td>9610618b-a23a-48d4-a7fb-04985df964ea</td>\n      <td>NaN</td>\n      <td>True</td>\n      <td>True</td>\n      <td>NUMBER AND ALGEBRA</td>\n      <td>9</td>\n    </tr>\n    <tr>\n      <th>35123</th>\n      <td>b0bcff77-fa1a-0fa8-6d85-57e87faeff76</td>\n      <td>6d27c189-cc31-4970-a6b2-49019ce66c3f</td>\n      <td>3ff457af-3961-dc05-c60f-f03812521f56</td>\n      <td>b0bb38aa-51c7-ef22-4421-f55777cfd57a</td>\n      <td>d75bfbb4-ffa3-c3ac-1ffc-ed5dea8433b8</td>\n      <td>2021-9|1598418|NUMERACY_CALC-18</td>\n      <td>NaN</td>\n      <td>NaN</td>\n      <td>NaN</td>\n      <td>True</td>\n      <td>...</td>\n      <td>NaN</td>\n      <td>9610618b-a23a-48d4-a7fb-04985df964ea</td>\n      <td>2022-03-04 01:32:23.735946+00:00</td>\n      <td>NaN</td>\n      <td>9610618b-a23a-48d4-a7fb-04985df964ea</td>\n      <td>NaN</td>\n      <td>True</td>\n      <td>True</td>\n      <td>NUMBER AND ALGEBRA</td>\n      <td>9</td>\n    </tr>\n    <tr>\n      <th>35145</th>\n      <td>b0bc8e6c-d9f1-39c0-1fa5-0376ec80e58d</td>\n      <td>6d27c189-cc31-4970-a6b2-49019ce66c3f</td>\n      <td>3ff466c0-8d03-478b-f1d0-d903566d8551</td>\n      <td>b0bbf0c0-ed57-6efd-5b68-194e418ddf30</td>\n      <td>d75bfbb4-ffa3-c3ac-1ffc-ed5dea8433b8</td>\n      <td>2021-9|1598308|NUMERACY_CALC-18</td>\n      <td>NaN</td>\n      <td>NaN</td>\n      <td>NaN</td>\n      <td>True</td>\n      <td>...</td>\n      <td>NaN</td>\n      <td>9610618b-a23a-48d4-a7fb-04985df964ea</td>\n      <td>2022-03-04 01:32:27.767287+00:00</td>\n      <td>NaN</td>\n      <td>9610618b-a23a-48d4-a7fb-04985df964ea</td>\n      <td>NaN</td>\n      <td>True</td>\n      <td>True</td>\n      <td>NUMBER AND ALGEBRA</td>\n      <td>9</td>\n    </tr>\n    <tr>\n      <th>35169</th>\n      <td>b0bc876a-e3d1-fc6c-49ed-349f6d984836</td>\n      <td>6d27c189-cc31-4970-a6b2-49019ce66c3f</td>\n      <td>3ff4241d-5b45-17e3-794c-adbbe616c000</td>\n      <td>b0bbd3ff-b7ba-a66f-540c-eac3b3298541</td>\n      <td>d75bfbb4-ffa3-c3ac-1ffc-ed5dea8433b8</td>\n      <td>2021-9|1598426|NUMERACY_CALC-18</td>\n      <td>NaN</td>\n      <td>NaN</td>\n      <td>NaN</td>\n      <td>True</td>\n      <td>...</td>\n      <td>NaN</td>\n      <td>9610618b-a23a-48d4-a7fb-04985df964ea</td>\n      <td>2022-03-04 01:32:33.892275+00:00</td>\n      <td>NaN</td>\n      <td>9610618b-a23a-48d4-a7fb-04985df964ea</td>\n      <td>NaN</td>\n      <td>True</td>\n      <td>True</td>\n      <td>NUMBER AND ALGEBRA</td>\n      <td>9</td>\n    </tr>\n  </tbody>\n</table>\n<p>1461 rows × 22 columns</p>\n</div>"
                    },
                    "metadata": {},
                    "execution_count": 30,
                    "output_type": "execute_result"
                }
            ],
            "execution_count": 30
        }
    ]
}