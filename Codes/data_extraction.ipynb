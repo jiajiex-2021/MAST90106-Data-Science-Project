{
    "metadata": {
        "kernelspec": {
            "name": "python3",
            "display_name": "Python 3 (ipykernel)",
            "language": "python"
        },
        "language_info": {
            "name": "python",
            "version": "3.8.10",
            "mimetype": "text/x-python",
            "codemirror_mode": {
                "name": "ipython",
                "version": 3
            },
            "pygments_lexer": "ipython3",
            "nbconvert_exporter": "python",
            "file_extension": ".py"
        }
    },
    "nbformat_minor": 2,
    "nbformat": 4,
    "cells": [
        {
            "cell_type": "code",
            "source": [
                "import pandas as pd"
            ],
            "metadata": {
                "azdata_cell_guid": "d46490a0-cca0-4835-a8dd-1457a8dcbbde",
                "language": "python"
            },
            "outputs": [],
            "execution_count": 1
        },
        {
            "cell_type": "code",
            "source": [
                "# !pip install psycopg2\r\n",
                "import psycopg2\r\n",
                "\r\n",
                "# Connect to your postgres DB\r\n",
                "conn = psycopg2.connect(database=\"postgres\", host=\"is-postgres-au-vic.postgres.database.azure.com\", user=\"ds@is-postgres-au-vic\", password='P\":VQ:7yD?ha!r7\"yWsmT15n7-RbT')\r\n",
                "\r\n",
                "# Open a cursor to perform database operations\r\n",
                "cur = conn.cursor()"
            ],
            "metadata": {
                "language": "python",
                "azdata_cell_guid": "1bc67ce4-8b28-44f6-a81c-86a03b91776a"
            },
            "outputs": [],
            "execution_count": 2
        },
        {
            "cell_type": "code",
            "source": [
                "query = \"\"\"\r\n",
                "\r\n",
                "with cohort as (\r\n",
                "select stu.stu_uuid\r\n",
                "from ds.mv_students as stu, (\r\n",
                "select tnt.tnt_uuid \r\n",
                "from (\r\n",
                "    select tnt_uuid, count(*) as cnt \r\n",
                "    from ds.mv_external_results as ext\r\n",
                "    where ext.external_result_type_name='NAPLAN' and ext.assessment_component='Numeracy'\r\n",
                "    group by tnt_uuid\r\n",
                "    order by count(*) desc\r\n",
                "    limit 1\r\n",
                ") as tnt) as tnt_id\r\n",
                "where tnt_id.tnt_uuid=stu.tnt_uuid and stu.current_year_level=10\r\n",
                ")\r\n",
                "\r\n",
                "\r\n",
                "select * \r\n",
                "from ds.mv_assessment_results as res, cohort, ds.mv_timetabled_classes as tt, ds.mv_learning_domain as ldom\r\n",
                "where res.stu_uuid=cohort.stu_uuid and res.ttclass_uuid=tt.ttclass_uuid and tt.ldom_uuid=ldom.ldom_uuid and ldom.learning_domain='Mathematics'\r\n",
                "\r\n",
                "\"\"\""
            ],
            "metadata": {
                "language": "python",
                "azdata_cell_guid": "db8b6a6d-0553-4550-b5f4-da27d5d6e092"
            },
            "outputs": [],
            "execution_count": 17
        },
        {
            "cell_type": "code",
            "source": [
                "cur.execute(query)\r\n",
                "\r\n",
                "# Retrieve query results\r\n",
                "records = cur.fetchall()"
            ],
            "metadata": {
                "language": "python",
                "azdata_cell_guid": "a03c3e4a-1d47-4786-8e42-a98e1c543249"
            },
            "outputs": [],
            "execution_count": 20
        },
        {
            "cell_type": "code",
            "source": [
                "internals = pd.DataFrame(records)\r\n",
                "colnames = [desc[0] for desc in cur.description]\r\n",
                "internals.columns = colnames\r\n",
                "internals.head()"
            ],
            "metadata": {
                "language": "python",
                "azdata_cell_guid": "ad5cece9-5f68-4189-b5b0-c85a39dcb9c6"
            },
            "outputs": [
                {
                    "output_type": "execute_result",
                    "execution_count": 35,
                    "data": {
                        "text/plain": "                               tnt_uuid                       assessment_uuid  \\\n0  6d27c189-cc31-4970-a6b2-49019ce66c3f  c4e3e986-bc32-0a22-9085-0d6088b6d309   \n1  6d27c189-cc31-4970-a6b2-49019ce66c3f  c4e35d50-9b2f-f8ae-6555-58f0949d9b66   \n2  6d27c189-cc31-4970-a6b2-49019ce66c3f  c4e44eae-1534-f120-29e1-5d0abff52050   \n3  6d27c189-cc31-4970-a6b2-49019ce66c3f  c4e49d22-9205-e2b7-afdc-312fd9564810   \n4  6d27c189-cc31-4970-a6b2-49019ce66c3f  c4e46ea5-e4c8-a3f1-a72d-324c504d8fb3   \n\n                            ttsess_uuid                              stu_uuid  \\\n0  67045c9c-21be-879c-1774-9b6a2d22a73b  3ff4e152-fe23-90f1-2dc5-795379649da8   \n1  67046440-439d-5c20-d62f-8ddc655052cf  3ff4e152-fe23-90f1-2dc5-795379649da8   \n2  6704c9c1-2c77-0533-e04a-e73fa620c87b  3ff4e152-fe23-90f1-2dc5-795379649da8   \n3  670498db-d726-8504-5ac1-d28ef68b5bcb  3ff4e152-fe23-90f1-2dc5-795379649da8   \n4  67044b53-5747-9015-5532-332cc438841a  3ff4e152-fe23-90f1-2dc5-795379649da8   \n\n                           ttclass_uuid    status  \\\n0  443eb7a2-e3f6-ca47-669c-e72638cea15a  ASSIGNED   \n1  443d72a3-8eaa-c49e-bdf5-58efb72b9e32  ASSIGNED   \n2  443f3130-1ca9-65f0-852c-ab39aeb5be6f  ASSIGNED   \n3  443e4335-7376-0acd-2d95-20751949a458  ASSIGNED   \n4  443fa9f5-a241-7aea-31b4-332332ae5592  ASSIGNED   \n\n                                      name                  activate  \\\n0     Mathematics Semester Result G08MT4 K 2020-11-26 14:00:00+00:00   \n1     Mathematics Semester Result G07MT1 K 2019-06-13 14:00:00+00:00   \n2  Mathematics Semester One Grade G08MT4 K 2020-06-11 14:00:00+00:00   \n3     Mathematics Semester result G07MT1 K 2019-12-01 14:00:00+00:00   \n4   Mathematics A Semester result G09MA4 K 2021-11-24 14:00:00+00:00   \n\n                 assessment_result_uuid result_numeric  ... session_start  \\\n0  c512cee0-6765-6cd8-64d8-63953fcec12c       0.960000  ...    2020-06-15   \n1  c508f21c-bdb6-5f80-3b7a-bacfdef687c6       0.970000  ...    2019-01-29   \n2  c508f942-d586-1a52-6d89-c228eaf745df       0.920000  ...    2020-01-31   \n3  c50b8f96-1903-9cfa-4505-f01ca31d6f43       0.950000  ...    2019-06-17   \n4  c51f0189-2fa0-f43e-48c3-3d5e3c155b60       0.870000  ...    2021-07-13   \n\n  session_end  status       title school_year  \\\n0  2020-12-09  active  Semester 2        2020   \n1  2019-06-14  active  Semester 1        2019   \n2  2020-06-12  active  Semester 1        2020   \n3  2019-12-11  active  Semester 2        2019   \n4  2021-12-10  active  Semester 2        2021   \n\n                               tnt_uuid                             ldom_uuid  \\\n0  6d27c189-cc31-4970-a6b2-49019ce66c3f  9409e639-1c34-dbba-0c86-40ceed9af969   \n1  6d27c189-cc31-4970-a6b2-49019ce66c3f  9409e639-1c34-dbba-0c86-40ceed9af969   \n2  6d27c189-cc31-4970-a6b2-49019ce66c3f  9409e639-1c34-dbba-0c86-40ceed9af969   \n3  6d27c189-cc31-4970-a6b2-49019ce66c3f  9409e639-1c34-dbba-0c86-40ceed9af969   \n4  6d27c189-cc31-4970-a6b2-49019ce66c3f  9409e639-1c34-dbba-0c86-40ceed9af969   \n\n  learning_domain learning_domain_code learning_domain_enum  \n0     Mathematics                MATHS                 None  \n1     Mathematics                MATHS                 None  \n2     Mathematics                MATHS                 None  \n3     Mathematics                MATHS                 None  \n4     Mathematics                MATHS                 None  \n\n[5 rows x 46 columns]",
                        "text/html": "<div>\n<style scoped>\n    .dataframe tbody tr th:only-of-type {\n        vertical-align: middle;\n    }\n\n    .dataframe tbody tr th {\n        vertical-align: top;\n    }\n\n    .dataframe thead th {\n        text-align: right;\n    }\n</style>\n<table border=\"1\" class=\"dataframe\">\n  <thead>\n    <tr style=\"text-align: right;\">\n      <th></th>\n      <th>tnt_uuid</th>\n      <th>assessment_uuid</th>\n      <th>ttsess_uuid</th>\n      <th>stu_uuid</th>\n      <th>ttclass_uuid</th>\n      <th>status</th>\n      <th>name</th>\n      <th>activate</th>\n      <th>assessment_result_uuid</th>\n      <th>result_numeric</th>\n      <th>...</th>\n      <th>session_start</th>\n      <th>session_end</th>\n      <th>status</th>\n      <th>title</th>\n      <th>school_year</th>\n      <th>tnt_uuid</th>\n      <th>ldom_uuid</th>\n      <th>learning_domain</th>\n      <th>learning_domain_code</th>\n      <th>learning_domain_enum</th>\n    </tr>\n  </thead>\n  <tbody>\n    <tr>\n      <th>0</th>\n      <td>6d27c189-cc31-4970-a6b2-49019ce66c3f</td>\n      <td>c4e3e986-bc32-0a22-9085-0d6088b6d309</td>\n      <td>67045c9c-21be-879c-1774-9b6a2d22a73b</td>\n      <td>3ff4e152-fe23-90f1-2dc5-795379649da8</td>\n      <td>443eb7a2-e3f6-ca47-669c-e72638cea15a</td>\n      <td>ASSIGNED</td>\n      <td>Mathematics Semester Result G08MT4 K</td>\n      <td>2020-11-26 14:00:00+00:00</td>\n      <td>c512cee0-6765-6cd8-64d8-63953fcec12c</td>\n      <td>0.960000</td>\n      <td>...</td>\n      <td>2020-06-15</td>\n      <td>2020-12-09</td>\n      <td>active</td>\n      <td>Semester 2</td>\n      <td>2020</td>\n      <td>6d27c189-cc31-4970-a6b2-49019ce66c3f</td>\n      <td>9409e639-1c34-dbba-0c86-40ceed9af969</td>\n      <td>Mathematics</td>\n      <td>MATHS</td>\n      <td>None</td>\n    </tr>\n    <tr>\n      <th>1</th>\n      <td>6d27c189-cc31-4970-a6b2-49019ce66c3f</td>\n      <td>c4e35d50-9b2f-f8ae-6555-58f0949d9b66</td>\n      <td>67046440-439d-5c20-d62f-8ddc655052cf</td>\n      <td>3ff4e152-fe23-90f1-2dc5-795379649da8</td>\n      <td>443d72a3-8eaa-c49e-bdf5-58efb72b9e32</td>\n      <td>ASSIGNED</td>\n      <td>Mathematics Semester Result G07MT1 K</td>\n      <td>2019-06-13 14:00:00+00:00</td>\n      <td>c508f21c-bdb6-5f80-3b7a-bacfdef687c6</td>\n      <td>0.970000</td>\n      <td>...</td>\n      <td>2019-01-29</td>\n      <td>2019-06-14</td>\n      <td>active</td>\n      <td>Semester 1</td>\n      <td>2019</td>\n      <td>6d27c189-cc31-4970-a6b2-49019ce66c3f</td>\n      <td>9409e639-1c34-dbba-0c86-40ceed9af969</td>\n      <td>Mathematics</td>\n      <td>MATHS</td>\n      <td>None</td>\n    </tr>\n    <tr>\n      <th>2</th>\n      <td>6d27c189-cc31-4970-a6b2-49019ce66c3f</td>\n      <td>c4e44eae-1534-f120-29e1-5d0abff52050</td>\n      <td>6704c9c1-2c77-0533-e04a-e73fa620c87b</td>\n      <td>3ff4e152-fe23-90f1-2dc5-795379649da8</td>\n      <td>443f3130-1ca9-65f0-852c-ab39aeb5be6f</td>\n      <td>ASSIGNED</td>\n      <td>Mathematics Semester One Grade G08MT4 K</td>\n      <td>2020-06-11 14:00:00+00:00</td>\n      <td>c508f942-d586-1a52-6d89-c228eaf745df</td>\n      <td>0.920000</td>\n      <td>...</td>\n      <td>2020-01-31</td>\n      <td>2020-06-12</td>\n      <td>active</td>\n      <td>Semester 1</td>\n      <td>2020</td>\n      <td>6d27c189-cc31-4970-a6b2-49019ce66c3f</td>\n      <td>9409e639-1c34-dbba-0c86-40ceed9af969</td>\n      <td>Mathematics</td>\n      <td>MATHS</td>\n      <td>None</td>\n    </tr>\n    <tr>\n      <th>3</th>\n      <td>6d27c189-cc31-4970-a6b2-49019ce66c3f</td>\n      <td>c4e49d22-9205-e2b7-afdc-312fd9564810</td>\n      <td>670498db-d726-8504-5ac1-d28ef68b5bcb</td>\n      <td>3ff4e152-fe23-90f1-2dc5-795379649da8</td>\n      <td>443e4335-7376-0acd-2d95-20751949a458</td>\n      <td>ASSIGNED</td>\n      <td>Mathematics Semester result G07MT1 K</td>\n      <td>2019-12-01 14:00:00+00:00</td>\n      <td>c50b8f96-1903-9cfa-4505-f01ca31d6f43</td>\n      <td>0.950000</td>\n      <td>...</td>\n      <td>2019-06-17</td>\n      <td>2019-12-11</td>\n      <td>active</td>\n      <td>Semester 2</td>\n      <td>2019</td>\n      <td>6d27c189-cc31-4970-a6b2-49019ce66c3f</td>\n      <td>9409e639-1c34-dbba-0c86-40ceed9af969</td>\n      <td>Mathematics</td>\n      <td>MATHS</td>\n      <td>None</td>\n    </tr>\n    <tr>\n      <th>4</th>\n      <td>6d27c189-cc31-4970-a6b2-49019ce66c3f</td>\n      <td>c4e46ea5-e4c8-a3f1-a72d-324c504d8fb3</td>\n      <td>67044b53-5747-9015-5532-332cc438841a</td>\n      <td>3ff4e152-fe23-90f1-2dc5-795379649da8</td>\n      <td>443fa9f5-a241-7aea-31b4-332332ae5592</td>\n      <td>ASSIGNED</td>\n      <td>Mathematics A Semester result G09MA4 K</td>\n      <td>2021-11-24 14:00:00+00:00</td>\n      <td>c51f0189-2fa0-f43e-48c3-3d5e3c155b60</td>\n      <td>0.870000</td>\n      <td>...</td>\n      <td>2021-07-13</td>\n      <td>2021-12-10</td>\n      <td>active</td>\n      <td>Semester 2</td>\n      <td>2021</td>\n      <td>6d27c189-cc31-4970-a6b2-49019ce66c3f</td>\n      <td>9409e639-1c34-dbba-0c86-40ceed9af969</td>\n      <td>Mathematics</td>\n      <td>MATHS</td>\n      <td>None</td>\n    </tr>\n  </tbody>\n</table>\n<p>5 rows × 46 columns</p>\n</div>"
                    },
                    "metadata": {}
                }
            ],
            "execution_count": 35
        },
        {
            "cell_type": "code",
            "source": [
                "query = \"\"\"\r\n",
                "\r\n",
                "with cohort as (\r\n",
                "select stu.stu_uuid\r\n",
                "from ds.mv_students as stu, (\r\n",
                "select tnt.tnt_uuid \r\n",
                "from (\r\n",
                "    select tnt_uuid, count(*) as cnt \r\n",
                "    from ds.mv_external_results as ext\r\n",
                "    where ext.external_result_type_name='NAPLAN' and ext.assessment_component='Numeracy'\r\n",
                "    group by tnt_uuid\r\n",
                "    order by count(*) desc\r\n",
                "    limit 1\r\n",
                ") as tnt) as tnt_id\r\n",
                "where tnt_id.tnt_uuid=stu.tnt_uuid and stu.current_year_level=10\r\n",
                ")\r\n",
                "\r\n",
                "\r\n",
                "select * \r\n",
                "from ds.mv_external_results as ext, cohort\r\n",
                "where ext.stu_uuid=cohort.stu_uuid and ext.external_result_type_name='NAPLAN' and ext.assessment_component='Numeracy'\r\n",
                "\r\n",
                "\"\"\"\r\n",
                "\r\n",
                "cur.execute(query)\r\n",
                "\r\n",
                "# Retrieve query results\r\n",
                "ext_records = cur.fetchall()\r\n",
                "\r\n",
                "externals = pd.DataFrame(ext_records)\r\n",
                "colnames_ext = [desc[0] for desc in cur.description]\r\n",
                "externals.columns = colnames_ext\r\n",
                "externals.head()"
            ],
            "metadata": {
                "language": "python",
                "azdata_cell_guid": "875a8654-0f28-4c07-83e5-f79a68612f37"
            },
            "outputs": [
                {
                    "data": {
                        "text/plain": "                               tnt_uuid                             extr_uuid  \\\n0  6d27c189-cc31-4970-a6b2-49019ce66c3f  b0bbafc4-1ea4-da52-1835-843c41a818d7   \n1  6d27c189-cc31-4970-a6b2-49019ce66c3f  b0bbcdaa-232e-c3ae-d475-3e1eb5f7030a   \n2  6d27c189-cc31-4970-a6b2-49019ce66c3f  b0bb5ddd-e141-738e-4271-8b0603f025a0   \n3  6d27c189-cc31-4970-a6b2-49019ce66c3f  b0bbe13f-601e-0be6-5db7-e9b3510789a4   \n4  6d27c189-cc31-4970-a6b2-49019ce66c3f  b0bb220f-22ff-8bee-d8a4-5f3054ccfb8b   \n\n                           lextest_uuid                              stu_uuid  \\\n0  349c7e04-e97c-666b-b043-53375920c0ec  3ff4128c-5d61-79fb-b656-40ddfe51b4b4   \n1  349c7e04-e97c-666b-b043-53375920c0ec  3ff40118-8025-e343-8558-1c346fc0145a   \n2  349c7e04-e97c-666b-b043-53375920c0ec  3ff40fdb-4210-4f87-ade0-6becaaa3ecd0   \n3  349c7e04-e97c-666b-b043-53375920c0ec  3ff4e823-be46-323f-a107-c988ef8a2319   \n4  349c7e04-e97c-666b-b043-53375920c0ec  3ff4362f-e3e2-228d-2b1e-4382f3c321e4   \n\n     type      description  date_taken  test_year  year_level          score  \\\n0  NAPLAN  NAPLAN Numeracy  2021-05-30       2021           9  555.000000000   \n1  NAPLAN  NAPLAN Numeracy  2021-05-30       2021           9  796.000000000   \n2  NAPLAN  NAPLAN Numeracy  2021-05-30       2021           9  586.000000000   \n3  NAPLAN  NAPLAN Numeracy  2021-05-30       2021           9  632.000000000   \n4  NAPLAN  NAPLAN Numeracy  2021-05-30       2021           9  677.000000000   \n\n   ...              percentile assessment_component external_result_type_name  \\\n0  ...  0.16020236087689713000             Numeracy                    NAPLAN   \n1  ...      0.9730185497470488             Numeracy                    NAPLAN   \n2  ...      0.2833052276559865             Numeracy                    NAPLAN   \n3  ...      0.5497470489038786             Numeracy                    NAPLAN   \n4  ...      0.7419898819561551             Numeracy                    NAPLAN   \n\n  external_result_type_description external_result_type_code  \\\n0                             None                      None   \n1                             None                      None   \n2                             None                      None   \n3                             None                      None   \n4                             None                      None   \n\n  external_result_type_max_score external_result_type_min_score group_label  \\\n0                           1000                              0        band   \n1                           1000                              0        band   \n2                           1000                              0        band   \n3                           1000                              0        band   \n4                           1000                              0        band   \n\n                  name                              stu_uuid  \n0  NAPLAN 2021: Year 9  3ff4128c-5d61-79fb-b656-40ddfe51b4b4  \n1  NAPLAN 2021: Year 9  3ff40118-8025-e343-8558-1c346fc0145a  \n2  NAPLAN 2021: Year 9  3ff40fdb-4210-4f87-ade0-6becaaa3ecd0  \n3  NAPLAN 2021: Year 9  3ff4e823-be46-323f-a107-c988ef8a2319  \n4  NAPLAN 2021: Year 9  3ff4362f-e3e2-228d-2b1e-4382f3c321e4  \n\n[5 rows x 27 columns]",
                        "text/html": "<div>\n<style scoped>\n    .dataframe tbody tr th:only-of-type {\n        vertical-align: middle;\n    }\n\n    .dataframe tbody tr th {\n        vertical-align: top;\n    }\n\n    .dataframe thead th {\n        text-align: right;\n    }\n</style>\n<table border=\"1\" class=\"dataframe\">\n  <thead>\n    <tr style=\"text-align: right;\">\n      <th></th>\n      <th>tnt_uuid</th>\n      <th>extr_uuid</th>\n      <th>lextest_uuid</th>\n      <th>stu_uuid</th>\n      <th>type</th>\n      <th>description</th>\n      <th>date_taken</th>\n      <th>test_year</th>\n      <th>year_level</th>\n      <th>score</th>\n      <th>...</th>\n      <th>percentile</th>\n      <th>assessment_component</th>\n      <th>external_result_type_name</th>\n      <th>external_result_type_description</th>\n      <th>external_result_type_code</th>\n      <th>external_result_type_max_score</th>\n      <th>external_result_type_min_score</th>\n      <th>group_label</th>\n      <th>name</th>\n      <th>stu_uuid</th>\n    </tr>\n  </thead>\n  <tbody>\n    <tr>\n      <th>0</th>\n      <td>6d27c189-cc31-4970-a6b2-49019ce66c3f</td>\n      <td>b0bbafc4-1ea4-da52-1835-843c41a818d7</td>\n      <td>349c7e04-e97c-666b-b043-53375920c0ec</td>\n      <td>3ff4128c-5d61-79fb-b656-40ddfe51b4b4</td>\n      <td>NAPLAN</td>\n      <td>NAPLAN Numeracy</td>\n      <td>2021-05-30</td>\n      <td>2021</td>\n      <td>9</td>\n      <td>555.000000000</td>\n      <td>...</td>\n      <td>0.16020236087689713000</td>\n      <td>Numeracy</td>\n      <td>NAPLAN</td>\n      <td>None</td>\n      <td>None</td>\n      <td>1000</td>\n      <td>0</td>\n      <td>band</td>\n      <td>NAPLAN 2021: Year 9</td>\n      <td>3ff4128c-5d61-79fb-b656-40ddfe51b4b4</td>\n    </tr>\n    <tr>\n      <th>1</th>\n      <td>6d27c189-cc31-4970-a6b2-49019ce66c3f</td>\n      <td>b0bbcdaa-232e-c3ae-d475-3e1eb5f7030a</td>\n      <td>349c7e04-e97c-666b-b043-53375920c0ec</td>\n      <td>3ff40118-8025-e343-8558-1c346fc0145a</td>\n      <td>NAPLAN</td>\n      <td>NAPLAN Numeracy</td>\n      <td>2021-05-30</td>\n      <td>2021</td>\n      <td>9</td>\n      <td>796.000000000</td>\n      <td>...</td>\n      <td>0.9730185497470488</td>\n      <td>Numeracy</td>\n      <td>NAPLAN</td>\n      <td>None</td>\n      <td>None</td>\n      <td>1000</td>\n      <td>0</td>\n      <td>band</td>\n      <td>NAPLAN 2021: Year 9</td>\n      <td>3ff40118-8025-e343-8558-1c346fc0145a</td>\n    </tr>\n    <tr>\n      <th>2</th>\n      <td>6d27c189-cc31-4970-a6b2-49019ce66c3f</td>\n      <td>b0bb5ddd-e141-738e-4271-8b0603f025a0</td>\n      <td>349c7e04-e97c-666b-b043-53375920c0ec</td>\n      <td>3ff40fdb-4210-4f87-ade0-6becaaa3ecd0</td>\n      <td>NAPLAN</td>\n      <td>NAPLAN Numeracy</td>\n      <td>2021-05-30</td>\n      <td>2021</td>\n      <td>9</td>\n      <td>586.000000000</td>\n      <td>...</td>\n      <td>0.2833052276559865</td>\n      <td>Numeracy</td>\n      <td>NAPLAN</td>\n      <td>None</td>\n      <td>None</td>\n      <td>1000</td>\n      <td>0</td>\n      <td>band</td>\n      <td>NAPLAN 2021: Year 9</td>\n      <td>3ff40fdb-4210-4f87-ade0-6becaaa3ecd0</td>\n    </tr>\n    <tr>\n      <th>3</th>\n      <td>6d27c189-cc31-4970-a6b2-49019ce66c3f</td>\n      <td>b0bbe13f-601e-0be6-5db7-e9b3510789a4</td>\n      <td>349c7e04-e97c-666b-b043-53375920c0ec</td>\n      <td>3ff4e823-be46-323f-a107-c988ef8a2319</td>\n      <td>NAPLAN</td>\n      <td>NAPLAN Numeracy</td>\n      <td>2021-05-30</td>\n      <td>2021</td>\n      <td>9</td>\n      <td>632.000000000</td>\n      <td>...</td>\n      <td>0.5497470489038786</td>\n      <td>Numeracy</td>\n      <td>NAPLAN</td>\n      <td>None</td>\n      <td>None</td>\n      <td>1000</td>\n      <td>0</td>\n      <td>band</td>\n      <td>NAPLAN 2021: Year 9</td>\n      <td>3ff4e823-be46-323f-a107-c988ef8a2319</td>\n    </tr>\n    <tr>\n      <th>4</th>\n      <td>6d27c189-cc31-4970-a6b2-49019ce66c3f</td>\n      <td>b0bb220f-22ff-8bee-d8a4-5f3054ccfb8b</td>\n      <td>349c7e04-e97c-666b-b043-53375920c0ec</td>\n      <td>3ff4362f-e3e2-228d-2b1e-4382f3c321e4</td>\n      <td>NAPLAN</td>\n      <td>NAPLAN Numeracy</td>\n      <td>2021-05-30</td>\n      <td>2021</td>\n      <td>9</td>\n      <td>677.000000000</td>\n      <td>...</td>\n      <td>0.7419898819561551</td>\n      <td>Numeracy</td>\n      <td>NAPLAN</td>\n      <td>None</td>\n      <td>None</td>\n      <td>1000</td>\n      <td>0</td>\n      <td>band</td>\n      <td>NAPLAN 2021: Year 9</td>\n      <td>3ff4362f-e3e2-228d-2b1e-4382f3c321e4</td>\n    </tr>\n  </tbody>\n</table>\n<p>5 rows × 27 columns</p>\n</div>"
                    },
                    "metadata": {},
                    "execution_count": 3,
                    "output_type": "execute_result"
                }
            ],
            "execution_count": 3
        },
        {
            "cell_type": "code",
            "source": [
                "internals.to_csv('internals.csv', header=True, index=False)\r\n",
                "externals.to_csv('externals.csv', header=True, index=False)"
            ],
            "metadata": {
                "language": "python",
                "azdata_cell_guid": "906b6789-b9ad-4be6-ac0b-1391bc42d927"
            },
            "outputs": [],
            "execution_count": 43
        },
        {
            "cell_type": "code",
            "source": [
                "conn = psycopg2.connect(database=\"postgres\", host=\"is-postgres-au-vic.postgres.database.azure.com\", user=\"ds@is-postgres-au-vic\", password='P\":VQ:7yD?ha!r7\"yWsmT15n7-RbT')\r\n",
                "cur = conn.cursor()"
            ],
            "metadata": {
                "azdata_cell_guid": "680b23c7-cf5c-4d94-bbd2-1cc73253e2dc",
                "language": "python"
            },
            "outputs": [],
            "execution_count": 18
        },
        {
            "cell_type": "code",
            "source": [
                "query3 = \"\"\"\r\n",
                "\r\n",
                "with cohort as (\r\n",
                "select stu.stu_uuid\r\n",
                "from ds.mv_students as stu, (\r\n",
                "select tnt.tnt_uuid \r\n",
                "from (\r\n",
                "    select tnt_uuid, count(*) as cnt \r\n",
                "    from ds.mv_external_results as ext\r\n",
                "    where ext.external_result_type_name='NAPLAN' and ext.assessment_component='Numeracy'\r\n",
                "    group by tnt_uuid\r\n",
                "    order by count(*) desc\r\n",
                "    limit 1\r\n",
                ") as tnt) as tnt_id\r\n",
                "where tnt_id.tnt_uuid=stu.tnt_uuid and stu.current_year_level=10\r\n",
                ")\r\n",
                "\r\n",
                "select lin.stu_uuid, ext.test_year, qst.*, lin.result_numeric, lin.result_text, lin.response, lin.is_correct, lin.weight, lin.attempted, lin.presented\r\n",
                "from cohort, ds.mv_external_result_question as qst, ds.mv_external_result_line as lin, ds.mv_external_results as ext\r\n",
                "where lin.lertq_uuid=qst.lerq_uuid and ext.extr_uuid=lin.extr_uuid and\r\n",
                "ext.stu_uuid=cohort.stu_uuid and ext.external_result_type_name='NAPLAN' and ext.assessment_component='Numeracy'\r\n",
                "\r\n",
                "\"\"\"\r\n",
                "\r\n",
                "cur.execute(query3)\r\n",
                "\r\n",
                "# Retrieve query results\r\n",
                "ext_details = cur.fetchall()\r\n",
                "\r\n",
                "ext_details_df = pd.DataFrame(ext_details)\r\n",
                "colnames_ext_details = [desc[0] for desc in cur.description]\r\n",
                "ext_details_df.columns = colnames_ext_details\r\n",
                "ext_details_df.head()"
            ],
            "metadata": {
                "azdata_cell_guid": "2e18910b-c820-446a-a4b7-49d49b327947",
                "language": "python"
            },
            "outputs": [
                {
                    "data": {
                        "text/plain": "                               stu_uuid  test_year  \\\n0  3ff48b2a-3132-5a05-74f9-8a6ab2f5e24a       2017   \n1  3ff48b2a-3132-5a05-74f9-8a6ab2f5e24a       2017   \n2  3ff48b2a-3132-5a05-74f9-8a6ab2f5e24a       2017   \n3  3ff48b2a-3132-5a05-74f9-8a6ab2f5e24a       2017   \n4  3ff48b2a-3132-5a05-74f9-8a6ab2f5e24a       2017   \n\n                              lerq_uuid               ext_id question  \\\n0  a3b1daed-e209-49b1-01cd-cd3c78736404  2017-05|NUMERACY-08     None   \n1  a3b155e8-9e96-b10d-8e2f-902e55545d70  2017-05|NUMERACY-01     None   \n2  a3b13c69-575f-d7c1-a9f3-50b76234fc97  2017-05|NUMERACY-02     None   \n3  a3b1944c-d19d-59ba-2a6a-d339a39c8572  2017-05|NUMERACY-03     None   \n4  a3b1c5ac-bb62-eee0-56a5-3252fd558485  2017-05|NUMERACY-04     None   \n\n  correct_response                            lldom_uuid description  \\\n0                A  3490b4d6-2ae6-25cb-088a-9962258b225d        None   \n1                C  3490b4d6-2ae6-25cb-088a-9962258b225d        None   \n2                B  3490b4d6-2ae6-25cb-088a-9962258b225d        None   \n3                B  3490b4d6-2ae6-25cb-088a-9962258b225d        None   \n4                B  3490b4d6-2ae6-25cb-088a-9962258b225d        None   \n\n  sort_order max_score  ... lcarea_uuids lccriterion_uuids             type  \\\n0       None      None  ...         None              None  Multiple choice   \n1       None      None  ...         None              None  Multiple choice   \n2       None      None  ...         None              None  Multiple choice   \n3       None      None  ...         None              None  Multiple choice   \n4       None      None  ...         None              None  Multiple choice   \n\n  result_numeric result_text response is_correct weight attempted presented  \n0           None        None     None       True   None      True      True  \n1           None        None     None       True   None      True      True  \n2           None        None     None       True   None      True      True  \n3           None        None     None       True   None      True      True  \n4           None        None     None       True   None      True      True  \n\n[5 rows x 28 columns]",
                        "text/html": "<div>\n<style scoped>\n    .dataframe tbody tr th:only-of-type {\n        vertical-align: middle;\n    }\n\n    .dataframe tbody tr th {\n        vertical-align: top;\n    }\n\n    .dataframe thead th {\n        text-align: right;\n    }\n</style>\n<table border=\"1\" class=\"dataframe\">\n  <thead>\n    <tr style=\"text-align: right;\">\n      <th></th>\n      <th>stu_uuid</th>\n      <th>test_year</th>\n      <th>lerq_uuid</th>\n      <th>ext_id</th>\n      <th>question</th>\n      <th>correct_response</th>\n      <th>lldom_uuid</th>\n      <th>description</th>\n      <th>sort_order</th>\n      <th>max_score</th>\n      <th>...</th>\n      <th>lcarea_uuids</th>\n      <th>lccriterion_uuids</th>\n      <th>type</th>\n      <th>result_numeric</th>\n      <th>result_text</th>\n      <th>response</th>\n      <th>is_correct</th>\n      <th>weight</th>\n      <th>attempted</th>\n      <th>presented</th>\n    </tr>\n  </thead>\n  <tbody>\n    <tr>\n      <th>0</th>\n      <td>3ff48b2a-3132-5a05-74f9-8a6ab2f5e24a</td>\n      <td>2017</td>\n      <td>a3b1daed-e209-49b1-01cd-cd3c78736404</td>\n      <td>2017-05|NUMERACY-08</td>\n      <td>None</td>\n      <td>A</td>\n      <td>3490b4d6-2ae6-25cb-088a-9962258b225d</td>\n      <td>None</td>\n      <td>None</td>\n      <td>None</td>\n      <td>...</td>\n      <td>None</td>\n      <td>None</td>\n      <td>Multiple choice</td>\n      <td>None</td>\n      <td>None</td>\n      <td>None</td>\n      <td>True</td>\n      <td>None</td>\n      <td>True</td>\n      <td>True</td>\n    </tr>\n    <tr>\n      <th>1</th>\n      <td>3ff48b2a-3132-5a05-74f9-8a6ab2f5e24a</td>\n      <td>2017</td>\n      <td>a3b155e8-9e96-b10d-8e2f-902e55545d70</td>\n      <td>2017-05|NUMERACY-01</td>\n      <td>None</td>\n      <td>C</td>\n      <td>3490b4d6-2ae6-25cb-088a-9962258b225d</td>\n      <td>None</td>\n      <td>None</td>\n      <td>None</td>\n      <td>...</td>\n      <td>None</td>\n      <td>None</td>\n      <td>Multiple choice</td>\n      <td>None</td>\n      <td>None</td>\n      <td>None</td>\n      <td>True</td>\n      <td>None</td>\n      <td>True</td>\n      <td>True</td>\n    </tr>\n    <tr>\n      <th>2</th>\n      <td>3ff48b2a-3132-5a05-74f9-8a6ab2f5e24a</td>\n      <td>2017</td>\n      <td>a3b13c69-575f-d7c1-a9f3-50b76234fc97</td>\n      <td>2017-05|NUMERACY-02</td>\n      <td>None</td>\n      <td>B</td>\n      <td>3490b4d6-2ae6-25cb-088a-9962258b225d</td>\n      <td>None</td>\n      <td>None</td>\n      <td>None</td>\n      <td>...</td>\n      <td>None</td>\n      <td>None</td>\n      <td>Multiple choice</td>\n      <td>None</td>\n      <td>None</td>\n      <td>None</td>\n      <td>True</td>\n      <td>None</td>\n      <td>True</td>\n      <td>True</td>\n    </tr>\n    <tr>\n      <th>3</th>\n      <td>3ff48b2a-3132-5a05-74f9-8a6ab2f5e24a</td>\n      <td>2017</td>\n      <td>a3b1944c-d19d-59ba-2a6a-d339a39c8572</td>\n      <td>2017-05|NUMERACY-03</td>\n      <td>None</td>\n      <td>B</td>\n      <td>3490b4d6-2ae6-25cb-088a-9962258b225d</td>\n      <td>None</td>\n      <td>None</td>\n      <td>None</td>\n      <td>...</td>\n      <td>None</td>\n      <td>None</td>\n      <td>Multiple choice</td>\n      <td>None</td>\n      <td>None</td>\n      <td>None</td>\n      <td>True</td>\n      <td>None</td>\n      <td>True</td>\n      <td>True</td>\n    </tr>\n    <tr>\n      <th>4</th>\n      <td>3ff48b2a-3132-5a05-74f9-8a6ab2f5e24a</td>\n      <td>2017</td>\n      <td>a3b1c5ac-bb62-eee0-56a5-3252fd558485</td>\n      <td>2017-05|NUMERACY-04</td>\n      <td>None</td>\n      <td>B</td>\n      <td>3490b4d6-2ae6-25cb-088a-9962258b225d</td>\n      <td>None</td>\n      <td>None</td>\n      <td>None</td>\n      <td>...</td>\n      <td>None</td>\n      <td>None</td>\n      <td>Multiple choice</td>\n      <td>None</td>\n      <td>None</td>\n      <td>None</td>\n      <td>True</td>\n      <td>None</td>\n      <td>True</td>\n      <td>True</td>\n    </tr>\n  </tbody>\n</table>\n<p>5 rows × 28 columns</p>\n</div>"
                    },
                    "metadata": {},
                    "execution_count": 22,
                    "output_type": "execute_result"
                }
            ],
            "execution_count": 22
        },
        {
            "cell_type": "code",
            "source": [
                "ext_details_df.to_csv('ext_details_df.csv', header=True, index=False)"
            ],
            "metadata": {
                "language": "python",
                "azdata_cell_guid": "98d3a57e-61d5-4cbd-bed6-499beaf35b14"
            },
            "outputs": [],
            "execution_count": 23
        },
        {
            "cell_type": "code",
            "source": [
                ""
            ],
            "metadata": {
                "language": "python",
                "azdata_cell_guid": "97b04f1f-d79f-41d2-9b71-04bf42fe4468"
            },
            "outputs": [],
            "execution_count": null
        }
    ]
}